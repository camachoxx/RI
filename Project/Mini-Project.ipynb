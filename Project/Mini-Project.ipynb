{
 "cells": [
  {
   "cell_type": "markdown",
   "metadata": {},
   "source": [
    "# Mini-Project: A Simple Search Engine from Scratch\n",
    "In this mini-project you will study the fundaments of IR.\n",
    "\n",
    "The mini-project is divided as follow:\n",
    "\n",
    "- **Week 1**: Study the provided notebook. Using the VSM retrieval model, run experiments *(section 4)* with the provided collection. Compute the metrics MAP, P10 and precision-recall curves.\n",
    "\n",
    "- **Week 2**: Implement the LMD and LMJM retrieval models and repeat the experiments with the new models. Compare it to the previous retrieval models.\n",
    "\n",
    "- **Week 3**: Implement the RM3 retrieval model and repeat the experiments with the new models. Compare it to the previous retrieval models.\n",
    "\n",
    "- **Week 4**: Implement the BM25 retrieval model and repeat the experiments with the new models. Compare it to the previous retrieval models.\n",
    "\n",
    "**Submission date: 15 October**\n",
    "\n",
    "## 1. Vector Space Model\n",
    "\n",
    "In the vector space model, documents are represented as a vector $d_j=(w_{d_j,1},w_{d_j,2}, ..., w_{d_j,n})$ of $n$ word frequencies -- most of the words are equal to 0. Queries are also represented as a vector of words $q_j=(w_{q_j,1},w_{q_j,2}, ..., w_{q_j,n})$. In the vector space model, each document word is weighted by their *tf-idf*\n",
    "\n",
    "$${tf-idf} = tf*\\frac{|D|}{log (df(w_a))}$$\n",
    "\n",
    "The vector space model is based on the cosine similarity, which measures the angle between the two vectors in the 1-unit sphere:\n",
    "\n",
    "$$cos(q,d) = \\frac{\\sum_t q_t\\cdot d_t}{\\sqrt{\\sum_t q^2_t}\\cdot \\sqrt{\\sum_t d^2_t }}$$\n",
    "\n",
    "\n",
    "Below you can read the corresponding matricial implementation for multiple documents.\n",
    "\n",
    "### Parser\n",
    "Using the CountVectorizer class of Scikit-Learn, try the different parser options by generating unigrams and bigrams with different stop words.\n"
   ]
  },
  {
   "cell_type": "code",
   "execution_count": 1,
   "metadata": {},
   "outputs": [],
   "source": [
    "\n",
    "import numpy as np\n",
    "from sklearn.feature_extraction.text import CountVectorizer\n",
    "\n",
    "#instancia um objeto com a função CountVectorizer\n",
    "vectorizer = CountVectorizer()\n",
    "\n",
    "#instancia um objeto com a função CountVectorizer com parametros definidos\n",
    "#ngram_range: define os limites do tamanho dos n-grams a incluir na tokenização\n",
    "#stop_words: palavras a ignorar (são palavras comuns nos documentos, não oferecem nenhum valor adicional)\n",
    "bigram_vectorizer = CountVectorizer(ngram_range=(1, 2), token_pattern=r'\\b\\w+\\b', \n",
    "                                    min_df=1, stop_words = {'the', 'is'})\n",
    "\n",
    "#lista de documentos\n",
    "corpus = ['This is the first document.',\n",
    "'This is the second second document.',\n",
    "'And the third one.',\n",
    "'Is this the first document?', ]"
   ]
  },
  {
   "cell_type": "code",
   "execution_count": 2,
   "metadata": {},
   "outputs": [
    {
     "data": {
      "text/plain": [
       "['this', 'is', 'text', 'document', 'to', 'analyze']"
      ]
     },
     "execution_count": 2,
     "metadata": {},
     "output_type": "execute_result"
    }
   ],
   "source": [
    "#instacia um objeto com uma função que lida com o pré-processamento e tokenização\n",
    "uni_analyze = vectorizer.build_analyzer()\n",
    "\n",
    "#pré-processa e tokeniza a string dada (ignora palavras com menos de duas letras e pontuação)\n",
    "uni_analyze(\"This is a text document to analyze.\")"
   ]
  },
  {
   "cell_type": "code",
   "execution_count": 3,
   "metadata": {},
   "outputs": [
    {
     "name": "stdout",
     "output_type": "stream",
     "text": [
      "['and', 'document', 'first', 'is', 'one', 'second', 'the', 'third', 'this']\n",
      "\n",
      "[[0 1 1 1 0 0 1 0 1]\n",
      " [0 1 0 1 0 2 1 0 1]\n",
      " [1 0 0 0 1 0 1 1 0]\n",
      " [0 1 1 1 0 0 1 0 1]]\n"
     ]
    }
   ],
   "source": [
    "#instacia um objeto com uma matriz com informação acerca da frequencia das palavras em cada documento de corpus\n",
    "tf_uni = vectorizer.fit_transform(corpus).toarray()\n",
    "\n",
    "#mostra os tokens correspondente a cada coluna da matriz\n",
    "print(vectorizer.get_feature_names())\n",
    "\n",
    "print()\n",
    "\n",
    "#matriz das frequências de palavras por documento\n",
    "#cada linha é respeitante a um documento\n",
    "#cada coluna é respeitante a um token (palavra no caso uni-gram)\n",
    "print(tf_uni)"
   ]
  },
  {
   "cell_type": "code",
   "execution_count": 4,
   "metadata": {},
   "outputs": [
    {
     "data": {
      "text/plain": [
       "['this',\n",
       " 'a',\n",
       " 'text',\n",
       " 'document',\n",
       " 'to',\n",
       " 'analyze',\n",
       " 'this a',\n",
       " 'a text',\n",
       " 'text document',\n",
       " 'document to',\n",
       " 'to analyze']"
      ]
     },
     "execution_count": 4,
     "metadata": {},
     "output_type": "execute_result"
    }
   ],
   "source": [
    "''''Separates the words, ignores stop word \"the\" and \"is\",it also reads the document one time separating each of the words,\n",
    "then a second time separating in 2 words due to the n-gram_range(1,2)''' \n",
    "\n",
    "#instacia um objeto com uma função que lida com o pré-processamento e tokenização\n",
    "bi_analyze = bigram_vectorizer.build_analyzer()\n",
    "\n",
    "#pré-processa e tokeniza a string dada de acordo com os parâmetros definidos anteriormente (bi-gram)\n",
    "bi_analyze(\"This is a text document to analyze.\") "
   ]
  },
  {
   "cell_type": "code",
   "execution_count": 5,
   "metadata": {},
   "outputs": [
    {
     "name": "stdout",
     "output_type": "stream",
     "text": [
      "['and', 'and third', 'document', 'first', 'first document', 'one', 'second', 'second document', 'second second', 'third', 'third one', 'this', 'this first', 'this second']\n",
      "\n",
      "[[0 0 1 1 1 0 0 0 0 0 0 1 1 0]\n",
      " [0 0 1 0 0 0 2 1 1 0 0 1 0 1]\n",
      " [1 1 0 0 0 1 0 0 0 1 1 0 0 0]\n",
      " [0 0 1 1 1 0 0 0 0 0 0 1 1 0]]\n"
     ]
    }
   ],
   "source": [
    "\"\"\"Creates another sparce matrix using the bigram_vectorizer method, this one is bigger than the first method because the additional\n",
    "2-gram sparsing, it searches the document in 1-grams first then the bigrams \"\"\"\n",
    "\n",
    "#instacia um objeto com uma matriz com informação acerca da frequencia das palavras em cada documento de corpus\n",
    "tf_bi = bigram_vectorizer.fit_transform(corpus).toarray()\n",
    "\n",
    "#mostra os tokens correspondente a cada coluna da matriz\n",
    "print(bigram_vectorizer.get_feature_names())\n",
    "\n",
    "print()\n",
    "\n",
    "#matriz das frequências de palavras por documento\n",
    "#cada linha é respeitante a um documento\n",
    "#cada coluna é respeitante a um token (palavra no caso uni-gram)\n",
    "print(tf_bi)"
   ]
  },
  {
   "cell_type": "code",
   "execution_count": 6,
   "metadata": {},
   "outputs": [
    {
     "data": {
      "text/plain": [
       "2"
      ]
     },
     "execution_count": 6,
     "metadata": {},
     "output_type": "execute_result"
    }
   ],
   "source": [
    "#mostra informação acerca da frequência do token dado no corpus\n",
    "bigram_vectorizer.vocabulary_.get('document')"
   ]
  },
  {
   "cell_type": "markdown",
   "metadata": {},
   "source": [
    "### TF IDF and the cosine similarity"
   ]
  },
  {
   "cell_type": "code",
   "execution_count": 7,
   "metadata": {},
   "outputs": [
    {
     "name": "stdout",
     "output_type": "stream",
     "text": [
      "\n",
      "tf:\n",
      " [[0 1 1 1 0 0 1 0 1]\n",
      " [0 1 0 1 0 2 1 0 1]\n",
      " [1 0 0 0 1 0 1 1 0]\n",
      " [0 1 1 1 0 0 1 0 1]]\n",
      "\n",
      "idf:\n",
      " [1.38629436 0.28768207 0.69314718 0.28768207 1.38629436 1.38629436\n",
      " 0.         1.38629436 0.28768207]\n",
      "\n",
      "tfidf:\n",
      " [[0.         0.28768207 0.69314718 0.28768207 0.         0.\n",
      "  0.         0.         0.28768207]\n",
      " [0.         0.28768207 0.         0.28768207 0.         2.77258872\n",
      "  0.         0.         0.28768207]\n",
      " [1.38629436 0.         0.         0.         1.38629436 0.\n",
      "  0.         1.38629436 0.        ]\n",
      " [0.         0.28768207 0.69314718 0.28768207 0.         0.\n",
      "  0.         0.         0.28768207]]\n",
      "\n",
      "docnorms:\n",
      " [0.85366032 2.81700748 2.40113227 0.85366032]\n"
     ]
    }
   ],
   "source": [
    "termCollFreq = np.sum(tf_uni != 0, axis = 0) #frequencia de cada palavra no conjunto dos documentos\n",
    "docLen = np.sum(tf_uni, axis = 1) #numero total de palavras no conjunto dos documentos\n",
    "\n",
    "idf = np.log(np.size(corpus)/termCollFreq) #indice de raridade de cada palavra\n",
    "idf_rows = np.dot(np.ones((np.size(corpus),1)), idf.reshape(1,np.size(idf)))\n",
    "tfidf = tf_uni*idf_rows  #peso final de cada palavra em cada documento\n",
    "\n",
    "docNorms = np.sqrt(np.sum(np.power(tfidf,2), axis = 1)) #norma de cada documento\n",
    "        \n",
    "print(\"\\ntf:\\n\", tf_uni)\n",
    "print(\"\\nidf:\\n\", idf)\n",
    "print(\"\\ntfidf:\\n\", tfidf)\n",
    "print(\"\\ndocnorms:\\n\", docNorms)"
   ]
  },
  {
   "cell_type": "code",
   "execution_count": 8,
   "metadata": {},
   "outputs": [
    {
     "name": "stdout",
     "output_type": "stream",
     "text": [
      "[[0.3369983  0.10212329 0.         0.3369983 ]]\n"
     ]
    }
   ],
   "source": [
    "query = 'document'\n",
    "#checks each column of the features and only keeps the ones that are equal to the query\n",
    "query_vector = vectorizer.transform([query]).toarray()\n",
    "#Norm of the created vector\n",
    "queryNorm = np.sqrt(np.sum(np.power(query_vector, 2), axis = 1))\n",
    "\n",
    "#Scores the query_vector for each document.\n",
    "#The second document has the same frequencie of the word document as the first and forth, but due to a bigger docNorm because,\n",
    "#this document has more words and the score is lower.\n",
    "doc_scores = np.dot(query_vector, tfidf.T)/(docNorms*queryNorm)\n",
    "\n",
    "print(doc_scores)"
   ]
  },
  {
   "cell_type": "markdown",
   "metadata": {},
   "source": [
    "### Inverted Index\n",
    "The matricial implementation is not scalable because it computes the similarity for all documents in the collection. However, one should only compute the similarity for the documents containing the query words. This is where the inverted index comes to our rescue.\n",
    "\n",
    "Read the inverted index implementation presented next. Describe in your own words how the cosine similarity should be implemented with the inverted index:\n"
   ]
  },
  {
   "cell_type": "code",
   "execution_count": 9,
   "metadata": {},
   "outputs": [
    {
     "name": "stdout",
     "output_type": "stream",
     "text": [
      "==== Creating the posting list for token \" and \"\n",
      "[(1, 2)]\n",
      "==== Creating the posting list for token \" document \"\n",
      "[(1, 0), (1, 1), (1, 3)]\n",
      "==== Creating the posting list for token \" first \"\n",
      "[(1, 0), (1, 3)]\n",
      "==== Creating the posting list for token \" is \"\n",
      "[(1, 0), (1, 1), (1, 3)]\n",
      "==== Creating the posting list for token \" one \"\n",
      "[(1, 2)]\n",
      "==== Creating the posting list for token \" second \"\n",
      "[(2, 1)]\n",
      "==== Creating the posting list for token \" the \"\n",
      "[(1, 0), (1, 1), (1, 2), (1, 3)]\n",
      "==== Creating the posting list for token \" third \"\n",
      "[(1, 2)]\n",
      "==== Creating the posting list for token \" this \"\n",
      "[(1, 0), (1, 1), (1, 3)]\n"
     ]
    }
   ],
   "source": [
    "features = vectorizer.get_feature_names()\n",
    "\n",
    "#Creates a dictionary whit the posting lists and the feature names\n",
    "i = 0\n",
    "inverted_index = dict()\n",
    "for token in features:\n",
    "    print(\"==== Creating the posting list for token \\\"\", token, \"\\\"\")\n",
    "    docs_with_token = np.where(tf_uni[:,i] != 0)\n",
    "    len = np.size(docs_with_token,1)\n",
    "    \n",
    "    postings_matrix = np.concatenate([tf_uni[docs_with_token,i], docs_with_token])\n",
    "    postings_list = list(map(tuple, postings_matrix.T))\n",
    "    inverted_index[token] = postings_list\n",
    "    # each line shows the frequencie of the word and the the correspondent document where the word was found\n",
    "    # this is used to map the information on the database.\n",
    "    print(postings_list)\n",
    "    i = i + 1"
   ]
  },
  {
   "cell_type": "markdown",
   "metadata": {},
   "source": [
    "### Evaluation\n",
    "Using the Vector Space Model, run the experiments of section 4.\n",
    "\n",
    "We advice you to use an external Python IDE for editing more complex implementations. **The Notebook should be used as a notebook, not as an IDE**. Your implementations should be organized on external classes as below:"
   ]
  },
  {
   "cell_type": "code",
   "execution_count": 10,
   "metadata": {},
   "outputs": [],
   "source": [
    "import RetrievalModelsMatrix as b\n",
    "\n",
    "aa = b.RetrievalModelsMatrix(tf_uni, vectorizer)\n",
    "#unfinished in retrieval methods \n",
    "#aa.score_lmd(\"document\",1)"
   ]
  },
  {
   "cell_type": "markdown",
   "metadata": {},
   "source": [
    "### Precision-Recall Curve"
   ]
  },
  {
   "cell_type": "code",
   "execution_count": 11,
   "metadata": {},
   "outputs": [
    {
     "name": "stdout",
     "output_type": "stream",
     "text": [
      "[0.         1.         0.66666667 0.5       ]\n"
     ]
    },
    {
     "data": {
      "text/plain": [
       "array([0., 1., 1., 1.])"
      ]
     },
     "execution_count": 11,
     "metadata": {},
     "output_type": "execute_result"
    }
   ],
   "source": [
    "import MeanAveragePrecision as m\n",
    "bb=m.MeanAveragePrecision(tf_uni,vectorizer)\n",
    "\n",
    "print(bb.cumulative_pscore('second'))  #Will be used to determine the precision recall curve\n",
    "bb.recall('second')   "
   ]
  },
  {
   "cell_type": "code",
   "execution_count": 12,
   "metadata": {},
   "outputs": [
    {
     "data": {
      "text/plain": [
       "[<matplotlib.lines.Line2D at 0x7f696e4c5550>]"
      ]
     },
     "execution_count": 12,
     "metadata": {},
     "output_type": "execute_result"
    },
    {
     "data": {
      "image/png": "[encoded data removed]",
      "text/plain": [
       "<Figure size 640x480 with 1 Axes>"
      ]
     },
     "metadata": {},
     "output_type": "display_data"
    }
   ],
   "source": [
    "bb.pr_curve('document')"
   ]
  },
  {
   "cell_type": "markdown",
   "metadata": {},
   "source": [
    "## 2. Retrieval Models\n",
    "\n",
    "In this section you will implement three of the most popular retrieval model. After finishing each retrieval model implementation, run the experiments of section 4 with the new model.\n",
    "\n",
    "### Language Model with Jelineck-Mercer Smoothing (20%)\n",
    "The family of Language Models for retrieval build on the density distribution of the terms over each document and the density distribution of terms over the collection of documents.\n",
    "\n",
    "There several ways of avoiding the zero probabilities problem with term smoothing.  The Jelineck-Mercer smoothing model uses a mixture of probabilities between the document model $M_d$ and the corpus model $M_c$:\n",
    "\n",
    "$$p(q|d,C)= \\lambda \\cdot p(q|M_d) + (1-\\lambda)\\cdot p(q|M_c)$$\n",
    "\n",
    "Implement the LMJM retrieval model using the matricial definitions:"
   ]
  },
  {
   "cell_type": "code",
   "execution_count": 13,
   "metadata": {},
   "outputs": [],
   "source": [
    "# p(q|Md) = probabilidade do termo da query aparecer no documento d =\n",
    "#         = nr vezes termo t no doc / nr total de termos do doc\n",
    "\n",
    "# p(q|Mc) = probabilidade do termo da query no corpus =\n",
    "#         = nr vezes termo t no corpus / nr total de termos do corpus"
   ]
  },
  {
   "cell_type": "code",
   "execution_count": 14,
   "metadata": {},
   "outputs": [
    {
     "name": "stdout",
     "output_type": "stream",
     "text": [
      "lam: 0.5\n",
      "\n",
      "corpus: ['Jackson one most talented entertainers all time', 'Michael Jackson anointed himself King Pop']\n",
      "\n",
      "tf:\n",
      "[[1 0 1 0 1 0 0 1 1 0 1 1]\n",
      " [0 1 0 1 1 1 1 0 0 1 0 0]]\n",
      "\n",
      "query_vector: [[0 0 0 0 1 0 1 0 0 0 0 0]]\n",
      "\n",
      "total_tokens_corpus: 13\n",
      "\n",
      "Mc: [0.07692308 0.07692308 0.07692308 0.07692308 0.15384615 0.07692308\n",
      " 0.07692308 0.07692308 0.07692308 0.07692308 0.07692308 0.07692308]\n",
      "\n",
      "tokens_per_doc: [7 6]\n",
      "\n",
      "Pd: [[0.14285714 0.         0.14285714 0.         0.14285714 0.\n",
      "  0.         0.14285714 0.14285714 0.         0.14285714 0.14285714]\n",
      " [0.         0.16666667 0.         0.16666667 0.16666667 0.16666667\n",
      "  0.16666667 0.         0.         0.16666667 0.         0.        ]]\n",
      "\n",
      "Pc: [0.07692308 0.07692308 0.07692308 0.07692308 0.15384615 0.07692308\n",
      " 0.07692308 0.07692308 0.07692308 0.07692308 0.07692308 0.07692308]\n",
      "\n",
      "Ed: [[1.         1.         1.         1.         0.14285714 1.\n",
      "  0.         1.         1.         1.         1.         1.        ]\n",
      " [1.         1.         1.         1.         0.16666667 1.\n",
      "  0.16666667 1.         1.         1.         1.         1.        ]]\n",
      "\n",
      "Ec: [[1.         1.         1.         1.         0.15384615 1.\n",
      "  0.07692308 1.         1.         1.         1.         1.        ]]\n",
      "\n",
      "scores: [0.00570583 0.01951841]\n",
      "\n",
      "query: Michael Jackson\n",
      "corpus: ['Jackson one most talented entertainers all time', 'Michael Jackson anointed himself King Pop']\n"
     ]
    }
   ],
   "source": [
    "from sklearn.feature_extraction.text import CountVectorizer\n",
    "\n",
    "vectorizer = CountVectorizer()\n",
    "\n",
    "lam = 0.5; print(\"lam:\",lam) #escolher o lambda ---> lambda\n",
    "\n",
    "corpus = ['Jackson one most talented entertainers all time',\n",
    "          'Michael Jackson anointed himself King Pop']\n",
    "print(\"\\ncorpus:\",corpus)\n",
    "\n",
    "tf = vectorizer.fit_transform(corpus).toarray(); #numero de vezes que cada token aparece em cada documento ---> f_td\n",
    "print(\"\\ntf:\"); print(tf)\n",
    "\n",
    "query = \"Michael Jackson\"; query_vector = vectorizer.transform([query]).toarray();\n",
    "print(\"\\nquery_vector:\",query_vector)\n",
    "\n",
    "\n",
    "#numero de tokens no corpus (soma da soma colunas da matriz tf)\n",
    "total_tokens_corpus = sum(np.sum(tf,axis=0)); print(\"\\ntotal_tokens_corpus:\", total_tokens_corpus)\n",
    "\n",
    "#frequencia de cada token no corpus (soma de cada coluna da tf a dividir pelo numero total de tokens do corpus) ---> Mc(t)\n",
    "Mc = np.sum(tf,axis=0) / total_tokens_corpus ; print(\"\\nMc:\",Mc)\n",
    "\n",
    "#numero de tokens em cada documento (soma de cada linha da matriz tf)  ---> |d|\n",
    "tokens_per_doc  = np.sum(tf,axis=1); print(\"\\ntokens_per_doc:\",tokens_per_doc)\n",
    "\n",
    "\n",
    "#Calculo dos scores\n",
    "\n",
    "#probabilidades\n",
    "Pd = tf / tokens_per_doc[:,None]; print(\"\\nPd:\", Pd)\n",
    "Pc = Mc; print(\"\\nPc:\", Pc)\n",
    "\n",
    "#elevar ao vetor da query (query_vector) ---> P(t|Md,Mc) ^ q(t)\n",
    "Ed = np.power(Pd, query_vector); print(\"\\nEd:\", Ed)\n",
    "Ec = np.power(Pc, query_vector); print(\"\\nEc:\", Ec)\n",
    "\n",
    "#produto das probabilidades ---> produtorio( P(t|Md,Mc)^ q(t) )\n",
    "scores = np.prod(lam*Ed + (1-lam)*Ec, axis=1)\n",
    "print(\"\\nscores:\",scores)\n",
    "\n",
    "\n",
    "#compara os resultados com os documentos do corpus para ver se fazem sentido\n",
    "print(\"\\nquery:\", query)\n",
    "print(\"corpus:\", corpus)"
   ]
  },
  {
   "cell_type": "code",
   "execution_count": 15,
   "metadata": {},
   "outputs": [
    {
     "name": "stdout",
     "output_type": "stream",
     "text": [
      "[1. 1. 1. 1.]\n"
     ]
    }
   ],
   "source": [
    "from sklearn.feature_extraction.text import CountVectorizer\n",
    "\n",
    "vectorizer = CountVectorizer()\n",
    "\n",
    "corpus = ['Jackson one most talented entertainers all time',\n",
    "          'Michael Jackson anointed himself King Pop']\n",
    "\n",
    "tf = vectorizer.fit_transform(corpus).toarray()\n",
    "\n",
    "query = \"Michael Jackson\"\n",
    "query_vector = vectorizer.transform([query]).toarray()\n",
    "\n",
    "doc_scores=aa.score_lmjm(query,0.5)\n",
    "\n",
    "print(doc_scores)"
   ]
  },
  {
   "cell_type": "markdown",
   "metadata": {},
   "source": [
    "Implement the LMJM retrieval model using the inverted-index data structures:"
   ]
  },
  {
   "cell_type": "code",
   "execution_count": 16,
   "metadata": {},
   "outputs": [
    {
     "name": "stdout",
     "output_type": "stream",
     "text": [
      "[0.174998   0.15833194 0.075      0.174998  ]\n"
     ]
    }
   ],
   "source": [
    "query = \"document\"\n",
    "\n",
    "doc_scores=aa.score_lmjm(query,0.5)\n",
    "\n",
    "print(doc_scores)"
   ]
  },
  {
   "cell_type": "markdown",
   "metadata": {},
   "source": [
    "### Language Model with Dirichlet Smoothing (20%)\n",
    "Another way of avoiding the zero probabilities problem is with the Dirichlet smoothing model that uses a mixture of frequencies between the term document frequencies $f_{t,c}$ and the term corpus frequency $\\mu \\cdot M_c(t)$:\n",
    "\n",
    "$$p(t|M_d, M_c)= \\frac{f_{t,d}+\\mu \\cdot M_c(t)}{|d| + \\mu}$$\n",
    "\n",
    "Implement the LMD retrieval model using the matricial definitions:\n"
   ]
  },
  {
   "cell_type": "code",
   "execution_count": 17,
   "metadata": {},
   "outputs": [
    {
     "name": "stdout",
     "output_type": "stream",
     "text": [
      "miu: 100\n",
      "\n",
      "corpus: ['Jackson one most talented entertainers all time', 'Michael Jackson anointed himself King Pop']\n",
      "\n",
      "tf:\n",
      "[[1 0 1 0 1 0 0 1 1 0 1 1]\n",
      " [0 1 0 1 1 1 1 0 0 1 0 0]]\n",
      "\n",
      "query_vector: [[0 0 0 0 1 0 1 0 0 0 0 0]]\n",
      "\n",
      "total_tokens_corpus: 13\n",
      "\n",
      "Mc: [0.07692308 0.07692308 0.07692308 0.07692308 0.15384615 0.07692308\n",
      " 0.07692308 0.07692308 0.07692308 0.07692308 0.07692308 0.07692308]\n",
      "\n",
      "tokens_per_doc: [7 6]\n",
      "\n",
      "p: [[0.08123652 0.07189073 0.08123652 0.07189073 0.15312725 0.07189073\n",
      "  0.07189073 0.08123652 0.08123652 0.07189073 0.08123652 0.08123652]\n",
      " [0.07256894 0.0820029  0.07256894 0.0820029  0.15457184 0.0820029\n",
      "  0.0820029  0.07256894 0.07256894 0.0820029  0.07256894 0.07256894]]\n",
      "\n",
      "e: [[1.         1.         1.         1.         0.15312725 1.\n",
      "  0.07189073 1.         1.         1.         1.         1.        ]\n",
      " [1.         1.         1.         1.         0.15457184 1.\n",
      "  0.0820029  1.         1.         1.         1.         1.        ]]\n",
      "\n",
      "scores: [0.01100843 0.01267534]\n",
      "\n",
      "query: Michael Jackson\n",
      "corpus: ['Jackson one most talented entertainers all time', 'Michael Jackson anointed himself King Pop']\n"
     ]
    }
   ],
   "source": [
    "from sklearn.feature_extraction.text import CountVectorizer\n",
    "\n",
    "vectorizer = CountVectorizer()\n",
    "\n",
    "miu = 100; print(\"miu:\",miu) #escolher o miu ---> miu\n",
    "\n",
    "corpus = ['Jackson one most talented entertainers all time',\n",
    "          'Michael Jackson anointed himself King Pop']\n",
    "print(\"\\ncorpus:\",corpus)\n",
    "\n",
    "tf = vectorizer.fit_transform(corpus).toarray(); #numero de vezes que cada token aparece em cada documento ---> f_td\n",
    "print(\"\\ntf:\"); print(tf)\n",
    "\n",
    "query = \"Michael Jackson\"; query_vector = vectorizer.transform([query]).toarray();\n",
    "print(\"\\nquery_vector:\",query_vector)\n",
    "\n",
    "\n",
    "#numero de tokens no corpus (soma da soma colunas da matriz tf)\n",
    "total_tokens_corpus = sum(np.sum(tf,axis=0)); print(\"\\ntotal_tokens_corpus:\", total_tokens_corpus)\n",
    "\n",
    "#frequencia de cada token no corpus (soma de cada coluna da tf a dividir pelo numero total de tokens do corpus) ---> Mc(t)\n",
    "Mc = np.sum(tf,axis=0) / total_tokens_corpus ; print(\"\\nMc:\",Mc)\n",
    "\n",
    "#numero de tokens em cada documento (soma de cada linha da matriz tf)  ---> |d|\n",
    "tokens_per_doc  = np.sum(tf,axis=1); print(\"\\ntokens_per_doc:\",tokens_per_doc)\n",
    "\n",
    "\n",
    "#Calculo dos scores\n",
    "\n",
    "#probabilidades ---> P(t|Md,Mc)\n",
    "p = (tf + miu*Mc)/(tokens_per_doc[:,None] + miu); print(\"\\np:\",p)\n",
    "\n",
    "#elevar ao vetor da query (query_vector) ---> P(t|Md,Mc) ^ q(t)\n",
    "e = np.power(p, query_vector); print(\"\\ne:\",e)\n",
    "\n",
    "#produto das probabilidades ---> produtorio( P(t|Md,Mc)^ q(t) )\n",
    "scores = np.prod(e, axis=1); print(\"\\nscores:\",scores)\n",
    "\n",
    "\n",
    "#compara os resultados com os documentos do corpus para ver se fazem sentido\n",
    "print(\"\\nquery:\", query)\n",
    "print(\"corpus:\", corpus)"
   ]
  },
  {
   "cell_type": "code",
   "execution_count": 18,
   "metadata": {},
   "outputs": [
    {
     "name": "stdout",
     "output_type": "stream",
     "text": [
      "[0.01100843 0.01267534]\n"
     ]
    }
   ],
   "source": [
    "from sklearn.feature_extraction.text import CountVectorizer\n",
    "\n",
    "vectorizer = CountVectorizer()\n",
    "\n",
    "corpus = ['Jackson one most talented entertainers all time',\n",
    "          'Michael Jackson anointed himself King Pop']\n",
    "\n",
    "tf = vectorizer.fit_transform(corpus).toarray()\n",
    "\n",
    "query = \"Michael Jackson\"\n",
    "query_vector = vectorizer.transform([query]).toarray()\n",
    "\n",
    "import RetrievalModelsMatrix as b\n",
    "aa = b.RetrievalModelsMatrix(tf, vectorizer)\n",
    "\n",
    "doc_scores = aa.score_lmd(query, 100)\n",
    "print(doc_scores)"
   ]
  },
  {
   "cell_type": "markdown",
   "metadata": {},
   "source": [
    "Implement the LMD retrieval model using the inverted-index data structures:"
   ]
  },
  {
   "cell_type": "code",
   "execution_count": 19,
   "metadata": {},
   "outputs": [
    {
     "name": "stdout",
     "output_type": "stream",
     "text": [
      "[0.01100843 0.01267534]\n"
     ]
    }
   ],
   "source": [
    "query = \"document\"\n",
    "\n",
    "# TO DO: LMD model\n",
    "\n",
    "print(doc_scores)"
   ]
  },
  {
   "cell_type": "markdown",
   "metadata": {},
   "source": [
    "### BM 25 (20%)\n",
    "\n",
    "The BM25 is model is an evolution of the tf-idf weighting based on a two Poisson distribution per term. It is obviously impossible to estimate each term distribution -- the approximation to the two Poisson distribution is given by the expression:\n",
    "\n",
    "$$RSV = \\sum q_t \\cdot \\frac{f_{t,d}(k_1 + 1)}{k_1 ((1-b) + b(\\frac{l_d}{l_avg})) + f_{t,d} }\\cdot IDF_t$$\n",
    "\n",
    "Implement the BM5 retrieval model using the matricial definitions:"
   ]
  },
  {
   "cell_type": "code",
   "execution_count": 20,
   "metadata": {},
   "outputs": [
    {
     "name": "stdout",
     "output_type": "stream",
     "text": [
      "[0.01100843 0.01267534]\n"
     ]
    }
   ],
   "source": [
    "query = \"document\"\n",
    "\n",
    "# TO DO: BM25 model\n",
    "\n",
    "print(doc_scores)"
   ]
  },
  {
   "cell_type": "markdown",
   "metadata": {},
   "source": [
    "Implement the BM25 retrieval model using the inverted-index data structures:"
   ]
  },
  {
   "cell_type": "code",
   "execution_count": 21,
   "metadata": {},
   "outputs": [
    {
     "name": "stdout",
     "output_type": "stream",
     "text": [
      "[0.01100843 0.01267534]\n"
     ]
    }
   ],
   "source": [
    "query = \"document\"\n",
    "\n",
    "# TO DO: BM25 model\n",
    "\n",
    "print(doc_scores)"
   ]
  },
  {
   "cell_type": "markdown",
   "metadata": {},
   "source": [
    "### Evaluation\n",
    "Using the implemented Retrieval Models, run the experiments of section 4.\n"
   ]
  },
  {
   "cell_type": "markdown",
   "metadata": {},
   "source": [
    "## 3. Pseudo-Relevance Feedback (RM3) (20%)\n",
    "\n",
    "Using the RM3 Model, run the experiments of section 4.\n",
    "\n",
    "Implement the RM3 retrieval model using the matricial definitions:"
   ]
  },
  {
   "cell_type": "code",
   "execution_count": 22,
   "metadata": {},
   "outputs": [
    {
     "name": "stdout",
     "output_type": "stream",
     "text": [
      "[0.01100843 0.01267534]\n"
     ]
    }
   ],
   "source": [
    "query = \"document\"\n",
    "\n",
    "# TO DO: RM3 model\n",
    "\n",
    "print(doc_scores)"
   ]
  },
  {
   "cell_type": "markdown",
   "metadata": {},
   "source": [
    "Implement the RM3 retrieval model using the inverted-index data structures:"
   ]
  },
  {
   "cell_type": "code",
   "execution_count": 23,
   "metadata": {},
   "outputs": [
    {
     "name": "stdout",
     "output_type": "stream",
     "text": [
      "[0.01100843 0.01267534]\n"
     ]
    }
   ],
   "source": [
    "query = \"document\"\n",
    "\n",
    "# TO DO: RM3 model\n",
    "\n",
    "print(doc_scores)"
   ]
  },
  {
   "cell_type": "markdown",
   "metadata": {},
   "source": [
    "### Evaluation\n",
    "Using the implemented RM3 model, run the experiments of section 4.\n"
   ]
  },
  {
   "cell_type": "markdown",
   "metadata": {},
   "source": [
    "## 4. Experiments and Results (20%)\n",
    "The goal of this section is to compare experimentally the different retrieval models. In this section you must:\n",
    "- Load the Cranfield documents.\n",
    "- Run the implemented retrieval models\n",
    "- Plot the precision-recall curves.\n",
    "- Compute MAP."
   ]
  },
  {
   "cell_type": "code",
   "execution_count": 24,
   "metadata": {},
   "outputs": [
    {
     "name": "stderr",
     "output_type": "stream",
     "text": [
      "[nltk_data] Downloading package punkt to /home/joao/nltk_data...\n",
      "[nltk_data]   Package punkt is already up-to-date!\n",
      "[nltk_data] Downloading package stopwords to /home/joao/nltk_data...\n",
      "[nltk_data]   Package stopwords is already up-to-date!\n"
     ]
    }
   ],
   "source": [
    "import numpy as np\n",
    "import pandas as pd\n",
    "from sklearn.feature_extraction.text import CountVectorizer\n",
    "from matplotlib.pyplot import figure\n",
    "import matplotlib.pyplot as plt\n",
    "import simpleparser as parser\n",
    "from sklearn.feature_extraction.text import CountVectorizer\n",
    "from sklearn.metrics import precision_recall_curve\n",
    "from sklearn.metrics import average_precision_score\n",
    "\n",
    "import collectionloaders\n",
    "import RetrievalModelsMatrix as model\n",
    "import seaborn as sb"
   ]
  },
  {
   "cell_type": "code",
   "execution_count": 25,
   "metadata": {},
   "outputs": [],
   "source": [
    "index=[\"Vsm\",\"LMD\",\"LMJM\",\"BM25\"]\n",
    "columns=[\"P@10\",\"MAP\"]\n",
    "Scores_table=pd.DataFrame(index=index,columns=columns)\n",
    "Scores_table= Scores_table.fillna(0)"
   ]
  },
  {
   "cell_type": "code",
   "execution_count": 26,
   "metadata": {},
   "outputs": [
    {
     "data": {
      "text/html": [
       "<div>\n",
       "<style scoped>\n",
       "    .dataframe tbody tr th:only-of-type {\n",
       "        vertical-align: middle;\n",
       "    }\n",
       "\n",
       "    .dataframe tbody tr th {\n",
       "        vertical-align: top;\n",
       "    }\n",
       "\n",
       "    .dataframe thead th {\n",
       "        text-align: right;\n",
       "    }\n",
       "</style>\n",
       "<table border=\"1\" class=\"dataframe\">\n",
       "  <thead>\n",
       "    <tr style=\"text-align: right;\">\n",
       "      <th></th>\n",
       "      <th>P@10</th>\n",
       "      <th>MAP</th>\n",
       "    </tr>\n",
       "  </thead>\n",
       "  <tbody>\n",
       "    <tr>\n",
       "      <td>Vsm</td>\n",
       "      <td>0</td>\n",
       "      <td>0</td>\n",
       "    </tr>\n",
       "    <tr>\n",
       "      <td>LMD</td>\n",
       "      <td>0</td>\n",
       "      <td>0</td>\n",
       "    </tr>\n",
       "    <tr>\n",
       "      <td>LMJM</td>\n",
       "      <td>0</td>\n",
       "      <td>0</td>\n",
       "    </tr>\n",
       "    <tr>\n",
       "      <td>BM25</td>\n",
       "      <td>0</td>\n",
       "      <td>0</td>\n",
       "    </tr>\n",
       "  </tbody>\n",
       "</table>\n",
       "</div>"
      ],
      "text/plain": [
       "      P@10  MAP\n",
       "Vsm      0    0\n",
       "LMD      0    0\n",
       "LMJM     0    0\n",
       "BM25     0    0"
      ]
     },
     "execution_count": 26,
     "metadata": {},
     "output_type": "execute_result"
    }
   ],
   "source": [
    "Scores_table"
   ]
  },
  {
   "cell_type": "code",
   "execution_count": 27,
   "metadata": {},
   "outputs": [
    {
     "name": "stdout",
     "output_type": "stream",
     "text": [
      "Number of documents:  1400\n",
      "Number of queries:  225\n"
     ]
    }
   ],
   "source": [
    "\n",
    "verbose = False\n",
    "bigrams = True\n",
    "\n",
    "### 1. Load the corpus\n",
    "cranfield = collectionloaders.CranfieldTestBed()\n",
    "\n",
    "### 2. Parse the corpus\n",
    "# Tokenize, stem and remove stop words\n",
    "def vsm_test(bigrams):\n",
    "    \n",
    "    \n",
    "    if not bigrams:\n",
    "        vectorizer = CountVectorizer()\n",
    "    else:\n",
    "        vectorizer = CountVectorizer(ngram_range=(1, 2), token_pattern=r'\\b\\w+\\b', \n",
    "                                        min_df=1, stop_words = {'the', 'is'})\n",
    "    \n",
    "    corpus = parser.stemCorpus(cranfield.corpus_cranfield['abstract'])\n",
    "    \n",
    "    ### 3. Create the model\n",
    "    # Compute the term frequencies matrix and the model statistics\n",
    "    tf_cranfield = vectorizer.fit_transform(corpus).toarray()\n",
    "    models = model.RetrievalModelsMatrix(tf_cranfield, vectorizer)\n",
    "    \n",
    "    ### 4. Run the queries over the corpus\n",
    "    i = 1\n",
    "    map_vsm = 0\n",
    "    precision_vsm = []\n",
    "\n",
    "    for query in cranfield.queries:\n",
    "        # Parse the query and compute the document scores\n",
    "        scores = models.score_vsm(parser.stemSentence(query))\n",
    "    \n",
    "        # Do the evaluation\n",
    "        [average_precision, precision, recall, thresholds] = cranfield.eval(scores, i)\n",
    "        map_vsm = map_vsm + average_precision\n",
    "        precision_vsm.append(precision)\n",
    "        \n",
    "        # Some messages...\n",
    "        if verbose:\n",
    "            plt.plot(recall, precision, color='silver', alpha=0.1)\n",
    "            print('qid =',i, 'VSM     AP=',average_precision)\n",
    "        \n",
    "        i = i + 1\n",
    "\n",
    "    del models #deletes class instance\n",
    "    map_vsm = map_vsm/cranfield.num_queries\n",
    "    return map_vsm,recall,precision_vsm"
   ]
  },
  {
   "cell_type": "code",
   "execution_count": 28,
   "metadata": {},
   "outputs": [
    {
     "data": {
      "text/plain": [
       "0      what similarity laws must be obeyed when const...\n",
       "1      what are the structural and aeroelastic proble...\n",
       "2      what problems of heat conduction in composite ...\n",
       "3      can a criterion be developed to show empirical...\n",
       "4      what chemical kinetic system is applicable to ...\n",
       "                             ...                        \n",
       "220    papers applicable to this problem (calculation...\n",
       "221    has anyone investigated the shear buckling of ...\n",
       "222    papers on shear buckling of unstiffened rectan...\n",
       "223    in practice, how close to reality are the assu...\n",
       "224    what design factors can be used to control lif...\n",
       "Name: query, Length: 225, dtype: object"
      ]
     },
     "execution_count": 28,
     "metadata": {},
     "output_type": "execute_result"
    }
   ],
   "source": [
    "cranfield.queries"
   ]
  },
  {
   "cell_type": "markdown",
   "metadata": {},
   "source": [
    "### Tests the vsm retrieval model \n",
    "    \n",
    "First test without bigrams and second with bigrams\n",
    "\n",
    "Stores the values of the tests in a 3 lists"
   ]
  },
  {
   "cell_type": "code",
   "execution_count": 29,
   "metadata": {},
   "outputs": [],
   "source": [
    "\n",
    "mapl=[]\n",
    "recl=[]\n",
    "precl=[]\n",
    "for b in [False,True]:\n",
    "    new_map,new_recall,new_precision=vsm_test(b)\n",
    "    mapl.append(new_map)\n",
    "    recl.append(new_recall)\n",
    "    precl.append(new_precision)\n",
    "    \n",
    "ind=np.argmax(mapl)  #finds the index of the biggest map value\n",
    "map_vsm=mapl[ind]\n",
    "recall=recl[ind]\n",
    "precision_vsm=precl[ind]\n"
   ]
  },
  {
   "cell_type": "markdown",
   "metadata": {},
   "source": [
    "### Compares the Precision-Recall curves of the tests"
   ]
  },
  {
   "cell_type": "code",
   "execution_count": 30,
   "metadata": {},
   "outputs": [
    {
     "data": {
      "text/plain": [
       "<function matplotlib.pyplot.show(*args, **kw)>"
      ]
     },
     "execution_count": 30,
     "metadata": {},
     "output_type": "execute_result"
    },
    {
     "data": {
      "image/png": "[encoded data removed]",
      "text/plain": [
       "<Figure size 432x288 with 1 Axes>"
      ]
     },
     "metadata": {
      "needs_background": "light"
     },
     "output_type": "display_data"
    }
   ],
   "source": [
    "plt.plot(recl[0], np.mean(precl[0],axis=0), color='b', alpha=1,label=' normal ngrams')\n",
    "plt.plot(recl[1], np.mean(precl[1],axis=0), color='r', alpha=1,label=\" bigrams\")\n",
    "plt.gca().set_aspect('equal', adjustable='box')\n",
    "plt.xlabel('Recall')\n",
    "plt.ylabel('Precision')\n",
    "plt.legend(loc=1)\n",
    "plt.show"
   ]
  },
  {
   "cell_type": "code",
   "execution_count": 31,
   "metadata": {
    "scrolled": true
   },
   "outputs": [
    {
     "name": "stdout",
     "output_type": "stream",
     "text": [
      "MAP= 0.2939123097084909\n"
     ]
    },
    {
     "data": {
      "image/png": "[encoded data removed]",
      "text/plain": [
       "<Figure size 432x288 with 1 Axes>"
      ]
     },
     "metadata": {
      "needs_background": "light"
     },
     "output_type": "display_data"
    }
   ],
   "source": [
    "### Show results\n",
    "Scores_table.loc[\"Vsm\",\"MAP\"]=map_vsm\n",
    "print('MAP=',map_vsm)\n",
    "\n",
    "plt.plot(recall, np.mean(precision_vsm,axis=0), color='b', alpha=1)\n",
    "plt.gca().set_aspect('equal', adjustable='box')\n",
    "plt.fill_between(recall, \n",
    "                 np.mean(precision_vsm,axis=0)-np.std(precision_vsm,axis=0), \n",
    "                 np.mean(precision_vsm,axis=0)+np.std(precision_vsm,axis=0), facecolor='b', alpha=0.1)\n",
    "\n",
    "plt.xlabel('Recall')\n",
    "plt.ylabel('Precision')\n",
    "plt.ylim([0.0, 1.0])\n",
    "plt.xlim([0.0, 1.0])\n",
    "plt.title('Precision-Recall (MAP={0:0.2f})'.format(map_vsm))\n",
    "plt.savefig('results/prec-recall.png', dpi=100)\n"
   ]
  },
  {
   "cell_type": "code",
   "execution_count": 80,
   "metadata": {},
   "outputs": [],
   "source": [
    "corpus = parser.stemCorpus(cranfield.corpus_cranfield['abstract'])\n",
    "    \n",
    "    ### 3. Create the model\n",
    "    # Compute the term frequencies matrix and the model statistics\n",
    "tf_cranfield = vectorizer.fit_transform(corpus).toarray()\n",
    "models = model.RetrievalModelsMatrix(tf_cranfield, vectorizer)\n",
    "\n",
    "def test_model(rm,par):\n",
    "    #rm=models.score_lmjm or models.score_ldm\n",
    "    ### 4. Run the queries over the corpus\n",
    "    i = 1\n",
    "    map_ = 0\n",
    "    precL = []\n",
    "\n",
    "    for query in cranfield.queries:\n",
    "        # Parse the query and compute the document scores\n",
    "        scores = np.nan_to_num(rm(parser.stemSentence(query),par))\n",
    "        \n",
    "        # Do the evaluation\n",
    "        [average_precision, precision, recall, thresholds] = cranfield.eval(scores, i)\n",
    "        map_ = map_ + average_precision\n",
    "        precL.append(precision)\n",
    "        \n",
    "        i = i + 1\n",
    "\n",
    "    \n",
    "    map_ = map_/cranfield.num_queries\n",
    "    return map_,recall,precL"
   ]
  },
  {
   "cell_type": "code",
   "execution_count": 81,
   "metadata": {},
   "outputs": [],
   "source": [
    "def m_tests(p_start,p_end,n,model):\n",
    "    mapl=[]\n",
    "    recl=[]\n",
    "    precl=[]\n",
    "\n",
    "    pv=np.linspace(p_start,p_end,n)\n",
    "    for p in range(0,n):\n",
    "        new_map,new_recall,new_precision=test_model(model,pv[p])\n",
    "        mapl.append(new_map)\n",
    "        recl.append(new_recall)\n",
    "        precl.append(new_precision)\n",
    "    \n",
    "    ind=np.argmax(mapl)  #finds the index of the biggest map value\n",
    "    best_p=pv[ind]\n",
    "    return best_p,mapl,recl,precl,pv,ind"
   ]
  },
  {
   "cell_type": "code",
   "execution_count": 82,
   "metadata": {},
   "outputs": [],
   "source": [
    "#Tests a particular model and returns the parameters\n",
    "best_p,mapl,recl,precl,pv,ind=m_tests(0.05,0.95,3,models.score_lmjm)\n"
   ]
  },
  {
   "cell_type": "code",
   "execution_count": 83,
   "metadata": {},
   "outputs": [],
   "source": [
    "Scores_table.loc[\"LMJM\",\"MAP\"]=mapl[ind]"
   ]
  },
  {
   "cell_type": "code",
   "execution_count": 84,
   "metadata": {},
   "outputs": [
    {
     "data": {
      "text/html": [
       "<div>\n",
       "<style scoped>\n",
       "    .dataframe tbody tr th:only-of-type {\n",
       "        vertical-align: middle;\n",
       "    }\n",
       "\n",
       "    .dataframe tbody tr th {\n",
       "        vertical-align: top;\n",
       "    }\n",
       "\n",
       "    .dataframe thead th {\n",
       "        text-align: right;\n",
       "    }\n",
       "</style>\n",
       "<table border=\"1\" class=\"dataframe\">\n",
       "  <thead>\n",
       "    <tr style=\"text-align: right;\">\n",
       "      <th></th>\n",
       "      <th>P@10</th>\n",
       "      <th>MAP</th>\n",
       "    </tr>\n",
       "  </thead>\n",
       "  <tbody>\n",
       "    <tr>\n",
       "      <td>Vsm</td>\n",
       "      <td>0</td>\n",
       "      <td>0.293912</td>\n",
       "    </tr>\n",
       "    <tr>\n",
       "      <td>LMD</td>\n",
       "      <td>0</td>\n",
       "      <td>0.000000</td>\n",
       "    </tr>\n",
       "    <tr>\n",
       "      <td>LMJM</td>\n",
       "      <td>0</td>\n",
       "      <td>0.287916</td>\n",
       "    </tr>\n",
       "    <tr>\n",
       "      <td>BM25</td>\n",
       "      <td>0</td>\n",
       "      <td>0.000000</td>\n",
       "    </tr>\n",
       "  </tbody>\n",
       "</table>\n",
       "</div>"
      ],
      "text/plain": [
       "      P@10       MAP\n",
       "Vsm      0  0.293912\n",
       "LMD      0  0.000000\n",
       "LMJM     0  0.287916\n",
       "BM25     0  0.000000"
      ]
     },
     "execution_count": 84,
     "metadata": {},
     "output_type": "execute_result"
    }
   ],
   "source": [
    "Scores_table"
   ]
  },
  {
   "cell_type": "code",
   "execution_count": 87,
   "metadata": {},
   "outputs": [
    {
     "data": {
      "text/plain": [
       "(3, 225, 11)"
      ]
     },
     "execution_count": 87,
     "metadata": {},
     "output_type": "execute_result"
    }
   ],
   "source": [
    "np.shape(precl)"
   ]
  },
  {
   "cell_type": "code",
   "execution_count": null,
   "metadata": {},
   "outputs": [],
   "source": []
  },
  {
   "cell_type": "code",
   "execution_count": 92,
   "metadata": {},
   "outputs": [],
   "source": [
    "from itertools import cycle\n",
    "cycol = cycle('bgrcmk')\n",
    "def plot_test(model_str,recall,precision,pv):\n",
    "    \n",
    "    plt.xlabel('Recall')\n",
    "    plt.ylabel('Precision')\n",
    "    plt.title(model_str)\n",
    "   \n",
    "    \n",
    "    \n",
    "    for i in range(0,np.shape(pv)[0]):\n",
    "        \n",
    "        plt.plot(recall[i], np.mean(precision[i],axis=0), color=next(cycol),label=\"par={0:0.2f}\".format(pv[i]))\n",
    "    \n",
    "    \n",
    "    plt.legend(loc=1)\n",
    "    fig_size=[0,0]\n",
    "    fig_size[0] = 12\n",
    "    fig_size[1] = 9\n",
    "    plt.rcParams[\"figure.figsize\"] = fig_size\n",
    "    plt.show()"
   ]
  },
  {
   "cell_type": "code",
   "execution_count": 93,
   "metadata": {},
   "outputs": [
    {
     "data": {
      "image/png": "[encoded data removed]",
      "text/plain": [
       "<Figure size 864x648 with 1 Axes>"
      ]
     },
     "metadata": {
      "needs_background": "light"
     },
     "output_type": "display_data"
    }
   ],
   "source": [
    "plot_test(\"LMJM-test (best par={0})\".format(best_p),recl,precl,pv)"
   ]
  },
  {
   "cell_type": "code",
   "execution_count": 94,
   "metadata": {},
   "outputs": [],
   "source": [
    "def best_test(file,mapl,precl,recl,ind):\n",
    "    map_=mapl[ind]\n",
    "    precision=precl[ind]\n",
    "    recall=recl[ind]\n",
    "    print('MAP=',map_)\n",
    "\n",
    "    plt.plot(recall, np.mean(precision,axis=0), color='b', alpha=1)\n",
    "    plt.gca().set_aspect('equal', adjustable='box')\n",
    "    plt.fill_between(recall, \n",
    "                 np.mean(precision,axis=0)-np.std(precision,axis=0), \n",
    "                 np.mean(precision,axis=0)+np.std(precision,axis=0), facecolor='b', alpha=0.1)\n",
    "\n",
    "    plt.xlabel('Recall')\n",
    "    plt.ylabel('Precision')\n",
    "    plt.ylim([0.0, 1.0])\n",
    "    plt.xlim([0.0, 1.0])\n",
    "    plt.title('Precision-Recall (MAP={0:0.3f})'.format(map_))\n",
    "    \n",
    "    fig_size=[0,0]\n",
    "    fig_size[0] = 12\n",
    "    fig_size[1] = 6\n",
    "    plt.rcParams[\"figure.figsize\"] = fig_size\n",
    "    plt.show()\n",
    "    plt.savefig('results/prec-recall_{0}.png'.format(file), dpi=100)\n",
    "    "
   ]
  },
  {
   "cell_type": "code",
   "execution_count": 95,
   "metadata": {},
   "outputs": [
    {
     "name": "stdout",
     "output_type": "stream",
     "text": [
      "MAP= 0.28791598911304866\n"
     ]
    },
    {
     "data": {
      "image/png": "[encoded data removed]",
      "text/plain": [
       "<Figure size 864x648 with 1 Axes>"
      ]
     },
     "metadata": {
      "needs_background": "light"
     },
     "output_type": "display_data"
    },
    {
     "data": {
      "text/plain": [
       "<Figure size 864x432 with 0 Axes>"
      ]
     },
     "metadata": {},
     "output_type": "display_data"
    }
   ],
   "source": [
    "best_test(\"LMJM-test\",mapl,precl,recl,ind)"
   ]
  },
  {
   "cell_type": "code",
   "execution_count": 96,
   "metadata": {},
   "outputs": [],
   "source": [
    "def best_test_p_lmd(tf_cranfield):\n",
    "    #Finds the mean of the lenght of all the documents to determine miu\n",
    "    \n",
    "    #sum of the rows\n",
    "    vm=np.sum(tf_cranfield,axis=1)\n",
    "    \n",
    "    #mean value of the number of words in each doc \n",
    "    cm=np.mean(vm)\n",
    "    return cm\n"
   ]
  },
  {
   "cell_type": "code",
   "execution_count": 97,
   "metadata": {},
   "outputs": [
    {
     "data": {
      "text/plain": [
       "93.18928571428572"
      ]
     },
     "execution_count": 97,
     "metadata": {},
     "output_type": "execute_result"
    }
   ],
   "source": [
    "best_test_p_lmd(tf_cranfield)"
   ]
  },
  {
   "cell_type": "code",
   "execution_count": 98,
   "metadata": {},
   "outputs": [],
   "source": [
    "best_p,mapl,recl,precl,pv,ind=m_tests(80,150,2,models.score_lmd)"
   ]
  },
  {
   "cell_type": "code",
   "execution_count": 99,
   "metadata": {},
   "outputs": [],
   "source": [
    "Scores_table.loc[\"LMD\",\"MAP\"]=mapl[ind]"
   ]
  },
  {
   "cell_type": "code",
   "execution_count": 100,
   "metadata": {},
   "outputs": [
    {
     "data": {
      "text/plain": [
       "150.0"
      ]
     },
     "execution_count": 100,
     "metadata": {},
     "output_type": "execute_result"
    }
   ],
   "source": [
    "best_p"
   ]
  },
  {
   "cell_type": "code",
   "execution_count": 101,
   "metadata": {},
   "outputs": [
    {
     "data": {
      "image/png": "[encoded data removed]",
      "text/plain": [
       "<Figure size 864x432 with 1 Axes>"
      ]
     },
     "metadata": {
      "needs_background": "light"
     },
     "output_type": "display_data"
    }
   ],
   "source": [
    "plot_test(\"LMD-test (best par={0})\".format(best_p),recl,precl,pv)"
   ]
  },
  {
   "cell_type": "code",
   "execution_count": 102,
   "metadata": {},
   "outputs": [
    {
     "name": "stdout",
     "output_type": "stream",
     "text": [
      "MAP= 0.28889784260073537\n"
     ]
    },
    {
     "data": {
      "image/png": "[encoded data removed]",
      "text/plain": [
       "<Figure size 864x648 with 1 Axes>"
      ]
     },
     "metadata": {
      "needs_background": "light"
     },
     "output_type": "display_data"
    },
    {
     "data": {
      "text/plain": [
       "<Figure size 864x432 with 0 Axes>"
      ]
     },
     "metadata": {},
     "output_type": "display_data"
    }
   ],
   "source": [
    "best_test(\"LMJM-test\",mapl,precl,recl,ind)"
   ]
  },
  {
   "cell_type": "code",
   "execution_count": 103,
   "metadata": {},
   "outputs": [],
   "source": [
    "\n",
    "def List_docscores(model,par):\n",
    "    scoreL=[]\n",
    "    for query in cranfield.queries:\n",
    "        # Parse the query and compute the document scores\n",
    "        scores = np.nan_to_num(model(parser.stemSentence(query),par))\n",
    "        scoreL.append(scores)\n",
    "    return scoreL"
   ]
  },
  {
   "cell_type": "code",
   "execution_count": 107,
   "metadata": {},
   "outputs": [
    {
     "ename": "KeyboardInterrupt",
     "evalue": "",
     "output_type": "error",
     "traceback": [
      "\u001b[0;31m---------------------------------------------------------------------------\u001b[0m",
      "\u001b[0;31mKeyboardInterrupt\u001b[0m                         Traceback (most recent call last)",
      "\u001b[0;32m<ipython-input-107-379a27837e19>\u001b[0m in \u001b[0;36m<module>\u001b[0;34m\u001b[0m\n\u001b[0;32m----> 1\u001b[0;31m \u001b[0mscores\u001b[0m\u001b[0;34m=\u001b[0m\u001b[0mList_docscores\u001b[0m\u001b[0;34m(\u001b[0m\u001b[0mmodels\u001b[0m\u001b[0;34m.\u001b[0m\u001b[0mscore_lmd\u001b[0m\u001b[0;34m,\u001b[0m\u001b[0;36m0.5\u001b[0m\u001b[0;34m)\u001b[0m\u001b[0;34m\u001b[0m\u001b[0;34m\u001b[0m\u001b[0m\n\u001b[0m\u001b[1;32m      2\u001b[0m \u001b[0mnp\u001b[0m\u001b[0;34m.\u001b[0m\u001b[0mdescribe\u001b[0m\u001b[0;34m(\u001b[0m\u001b[0mscores\u001b[0m\u001b[0;34m)\u001b[0m\u001b[0;34m\u001b[0m\u001b[0;34m\u001b[0m\u001b[0m\n",
      "\u001b[0;32m<ipython-input-103-ae784937d871>\u001b[0m in \u001b[0;36mList_docscores\u001b[0;34m(model, par)\u001b[0m\n\u001b[1;32m      3\u001b[0m     \u001b[0;32mfor\u001b[0m \u001b[0mquery\u001b[0m \u001b[0;32min\u001b[0m \u001b[0mcranfield\u001b[0m\u001b[0;34m.\u001b[0m\u001b[0mqueries\u001b[0m\u001b[0;34m:\u001b[0m\u001b[0;34m\u001b[0m\u001b[0;34m\u001b[0m\u001b[0m\n\u001b[1;32m      4\u001b[0m         \u001b[0;31m# Parse the query and compute the document scores\u001b[0m\u001b[0;34m\u001b[0m\u001b[0;34m\u001b[0m\u001b[0;34m\u001b[0m\u001b[0m\n\u001b[0;32m----> 5\u001b[0;31m         \u001b[0mscores\u001b[0m \u001b[0;34m=\u001b[0m \u001b[0mnp\u001b[0m\u001b[0;34m.\u001b[0m\u001b[0mnan_to_num\u001b[0m\u001b[0;34m(\u001b[0m\u001b[0mmodel\u001b[0m\u001b[0;34m(\u001b[0m\u001b[0mparser\u001b[0m\u001b[0;34m.\u001b[0m\u001b[0mstemSentence\u001b[0m\u001b[0;34m(\u001b[0m\u001b[0mquery\u001b[0m\u001b[0;34m)\u001b[0m\u001b[0;34m,\u001b[0m\u001b[0mpar\u001b[0m\u001b[0;34m)\u001b[0m\u001b[0;34m)\u001b[0m\u001b[0;34m\u001b[0m\u001b[0;34m\u001b[0m\u001b[0m\n\u001b[0m\u001b[1;32m      6\u001b[0m         \u001b[0mscoreL\u001b[0m\u001b[0;34m.\u001b[0m\u001b[0mappend\u001b[0m\u001b[0;34m(\u001b[0m\u001b[0mscores\u001b[0m\u001b[0;34m)\u001b[0m\u001b[0;34m\u001b[0m\u001b[0;34m\u001b[0m\u001b[0m\n\u001b[1;32m      7\u001b[0m     \u001b[0;32mreturn\u001b[0m \u001b[0mscoreL\u001b[0m\u001b[0;34m\u001b[0m\u001b[0;34m\u001b[0m\u001b[0m\n",
      "\u001b[0;32m~/Desktop/Big Data/Recuperação de Informação/RI/Project/RetrievalModelsMatrix.py\u001b[0m in \u001b[0;36mscore_lmd\u001b[0;34m(self, query, miu, query_to_vector)\u001b[0m\n\u001b[1;32m     66\u001b[0m \u001b[0;34m\u001b[0m\u001b[0m\n\u001b[1;32m     67\u001b[0m         \u001b[0;31m#elevar ao vetor da query ---> P(t|Md,Mc) ^ q(t)\u001b[0m\u001b[0;34m\u001b[0m\u001b[0;34m\u001b[0m\u001b[0;34m\u001b[0m\u001b[0m\n\u001b[0;32m---> 68\u001b[0;31m         \u001b[0me\u001b[0m \u001b[0;34m=\u001b[0m \u001b[0mnp\u001b[0m\u001b[0;34m.\u001b[0m\u001b[0mpower\u001b[0m\u001b[0;34m(\u001b[0m\u001b[0mp\u001b[0m\u001b[0;34m,\u001b[0m \u001b[0mquery_vector\u001b[0m\u001b[0;34m)\u001b[0m\u001b[0;34m\u001b[0m\u001b[0;34m\u001b[0m\u001b[0m\n\u001b[0m\u001b[1;32m     69\u001b[0m \u001b[0;34m\u001b[0m\u001b[0m\n\u001b[1;32m     70\u001b[0m         \u001b[0;31m#produto das probabilidades ---> produtorio( P(t|Md,Mc)^ q(t) )\u001b[0m\u001b[0;34m\u001b[0m\u001b[0;34m\u001b[0m\u001b[0;34m\u001b[0m\u001b[0m\n",
      "\u001b[0;31mKeyboardInterrupt\u001b[0m: "
     ]
    }
   ],
   "source": [
    "scores=List_docscores(models.score_lmd,0.5)\n"
   ]
  },
  {
   "cell_type": "code",
   "execution_count": 109,
   "metadata": {},
   "outputs": [
    {
     "data": {
      "text/plain": [
       "(225, 1400)"
      ]
     },
     "execution_count": 109,
     "metadata": {},
     "output_type": "execute_result"
    }
   ],
   "source": [
    "np.shape(scores)\n"
   ]
  },
  {
   "cell_type": "code",
   "execution_count": null,
   "metadata": {},
   "outputs": [],
   "source": [
    "def sort_array(arr){\n",
    "    \n",
    "}"
   ]
  },
  {
   "cell_type": "code",
   "execution_count": 120,
   "metadata": {},
   "outputs": [
    {
     "data": {
      "text/plain": [
       "array([[ 470,  994,  485, ...,  878,  183,  664],\n",
       "       [  11,  470,  994, ..., 1088,   50,  140],\n",
       "       [ 484,    4,  398, ..., 1071,  578,  583],\n",
       "       ...,\n",
       "       [1398,  399, 1397, ..., 1047, 1399, 1049],\n",
       "       [ 994,  470, 1311, ...,  574,  258,  575],\n",
       "       [1187,  470,  994, ...,  682,  673, 1123]])"
      ]
     },
     "execution_count": 120,
     "metadata": {},
     "output_type": "execute_result"
    }
   ],
   "source": [
    "np.argsort(scores,axis=1)[:,-10:][:,::-1]"
   ]
  },
  {
   "cell_type": "code",
   "execution_count": 106,
   "metadata": {},
   "outputs": [
    {
     "data": {
      "text/plain": [
       "[array([1.75603056e-58, 3.77976765e-51, 2.98642732e-51, ...,\n",
       "        2.88515173e-60, 4.46083331e-53, 2.07998166e-57]),\n",
       " array([1.81737693e-38, 1.14010434e-33, 7.43746192e-36, ...,\n",
       "        1.82922022e-39, 2.13695431e-39, 2.47479564e-40]),\n",
       " array([1.17774195e-34, 3.05266752e-35, 1.06096439e-32, ...,\n",
       "        1.72220950e-35, 8.44840991e-36, 1.28100573e-36]),\n",
       " array([4.53593924e-87, 3.22076213e-96, 8.27913669e-82, ...,\n",
       "        5.82071040e-99, 3.53264839e-92, 2.76391481e-94]),\n",
       " array([8.52264586e-31, 3.88743528e-31, 9.08124878e-32, ...,\n",
       "        1.47411290e-34, 7.23135602e-35, 1.09646769e-35]),\n",
       " array([7.83002940e-29, 3.24503796e-35, 6.67187938e-30, ...,\n",
       "        4.85537096e-38, 2.10913382e-35, 2.68634123e-33]),\n",
       " array([3.82341221e-78, 2.96873745e-92, 5.88606496e-76, ...,\n",
       "        2.35278506e-92, 7.14852770e-86, 1.38979154e-90]),\n",
       " array([4.52095358e-54, 7.20850601e-54, 3.96004047e-47, ...,\n",
       "        8.18287678e-62, 1.02197140e-54, 1.07301333e-58]),\n",
       " array([9.38469096e-30, 7.67371218e-27, 9.17233485e-28, ...,\n",
       "        6.67504398e-36, 3.06601183e-30, 4.39654927e-34]),\n",
       " array([2.77386663e-53, 5.57671174e-55, 1.03842797e-46, ...,\n",
       "        6.62120478e-55, 3.88453891e-51, 1.58773606e-49]),\n",
       " array([6.10029451e-54, 2.32296884e-46, 2.34054926e-49, ...,\n",
       "        2.00229110e-55, 3.49608378e-51, 1.63014165e-55]),\n",
       " array([6.20422410e-33, 9.62318860e-37, 5.05664085e-33, ...,\n",
       "        5.30555364e-39, 5.76785546e-39, 8.35810950e-35]),\n",
       " array([5.68262085e-30, 8.05740123e-31, 1.09949708e-26, ...,\n",
       "        8.77959338e-31, 6.72474205e-29, 1.74789644e-29]),\n",
       " array([2.99596338e-25, 3.38900378e-17, 5.79671436e-22, ...,\n",
       "        4.62873399e-26, 3.74887903e-21, 9.21517352e-25]),\n",
       " array([1.02471267e-23, 2.14743069e-24, 4.36433849e-21, ...,\n",
       "        2.30007864e-24, 7.39781841e-23, 2.51753618e-23]),\n",
       " array([1.04772879e-40, 3.78572071e-42, 5.73284698e-38, ...,\n",
       "        9.11370601e-45, 1.23156161e-40, 5.18839143e-39]),\n",
       " array([2.22957016e-47, 6.62364574e-39, 5.82135472e-48, ...,\n",
       "        3.25209217e-51, 2.40482900e-49, 2.31534091e-53]),\n",
       " array([3.74343500e-27, 3.60102879e-37, 4.58601508e-31, ...,\n",
       "        5.42561085e-37, 2.80983317e-34, 8.08599488e-38]),\n",
       " array([2.13689603e-66, 6.23329355e-72, 4.54004535e-66, ...,\n",
       "        3.68080729e-75, 2.87878037e-72, 1.73878477e-71]),\n",
       " array([8.33947948e-63, 3.45115342e-70, 2.10125310e-62, ...,\n",
       "        2.80314168e-76, 5.28942529e-71, 1.21607588e-72]),\n",
       " array([1.95522417e-59, 9.51391792e-56, 3.32518978e-52, ...,\n",
       "        2.48314835e-58, 4.48823769e-57, 2.31592235e-58]),\n",
       " array([1.34552596e-48, 2.34473358e-46, 1.10880149e-42, ...,\n",
       "        4.66614663e-50, 1.14953075e-46, 1.01679338e-47]),\n",
       " array([3.89235576e-21, 5.59926009e-28, 7.64063988e-24, ...,\n",
       "        3.55959895e-25, 4.67316679e-26, 1.21465054e-26]),\n",
       " array([5.98267641e-44, 2.62742066e-45, 1.08524590e-38, ...,\n",
       "        3.01423195e-45, 3.11816171e-42, 3.61112682e-43]),\n",
       " array([2.05747767e-59, 1.34364625e-63, 3.76974902e-54, ...,\n",
       "        2.19061970e-66, 7.28869768e-62, 2.41294290e-60]),\n",
       " array([1.49543140e-50, 3.84416702e-41, 4.08924328e-36, ...,\n",
       "        1.15749264e-52, 1.35947862e-51, 6.41164491e-50]),\n",
       " array([1.69417389e-37, 6.01690366e-48, 1.66867369e-40, ...,\n",
       "        7.80410513e-45, 1.88256620e-41, 1.53020751e-45]),\n",
       " array([1.04278854e-20, 3.60807364e-27, 2.32949598e-25, ...,\n",
       "        3.13217100e-27, 7.93897086e-22, 1.02058200e-28]),\n",
       " array([3.97389892e-46, 2.01895641e-41, 3.22948058e-41, ...,\n",
       "        1.87424957e-52, 8.73849308e-49, 1.99419096e-50]),\n",
       " array([1.34034650e-25, 8.66651160e-26, 2.50977583e-24, ...,\n",
       "        1.20546082e-31, 2.32505135e-26, 4.36518498e-30]),\n",
       " array([2.17141459e-77, 6.23208969e-70, 1.66093946e-66, ...,\n",
       "        6.05731507e-74, 1.55593951e-69, 6.23379573e-71]),\n",
       " array([1.45114444e-34, 1.08293429e-38, 9.49394806e-35, ...,\n",
       "        2.63691036e-41, 2.72783019e-38, 3.15908592e-39]),\n",
       " array([5.55210739e-75, 3.50982584e-86, 6.25541649e-78, ...,\n",
       "        4.33833653e-84, 7.44036852e-83, 5.26034286e-88]),\n",
       " array([2.30448847e-27, 2.18192499e-32, 1.02397518e-31, ...,\n",
       "        1.87707610e-37, 8.15386654e-35, 1.62064840e-30]),\n",
       " array([6.96660309e-45, 3.48424627e-40, 1.26372829e-39, ...,\n",
       "        3.50996045e-46, 7.10888820e-37, 4.20502222e-44]),\n",
       " array([1.95455262e-40, 2.90943104e-42, 6.15541468e-40, ...,\n",
       "        2.59037056e-47, 6.38151958e-44, 7.39920977e-40]),\n",
       " array([5.92723840e-26, 6.76935078e-30, 1.17047605e-22, ...,\n",
       "        7.50381837e-30, 2.53433083e-24, 2.28251067e-25]),\n",
       " array([5.92965586e-42, 2.37142146e-37, 1.07562807e-36, ...,\n",
       "        2.98751878e-43, 3.09052748e-40, 1.79632092e-37]),\n",
       " array([2.64523172e-26, 6.29833180e-26, 9.25823993e-22, ...,\n",
       "        1.39051490e-28, 1.05262805e-29, 2.08969555e-30]),\n",
       " array([1.48652252e-32, 2.12170971e-30, 1.30660999e-28, ...,\n",
       "        3.80911901e-30, 2.88352575e-31, 5.72442558e-32]),\n",
       " array([1.89318321e-40, 1.41473735e-41, 3.93337012e-37, ...,\n",
       "        1.40711312e-47, 3.46650015e-44, 1.52991515e-42]),\n",
       " array([1.36704069e-64, 3.43250602e-62, 2.91727015e-57, ...,\n",
       "        3.05639062e-67, 1.73177557e-65, 6.70256036e-70]),\n",
       " array([1.42453910e-55, 1.27972135e-50, 5.67732727e-45, ...,\n",
       "        1.30552714e-55, 2.58609657e-55, 1.33442105e-56]),\n",
       " array([5.84402144e-41, 2.91934143e-47, 1.20582264e-40, ...,\n",
       "        3.34912957e-47, 3.46460649e-44, 4.01234271e-45]),\n",
       " array([1.68033925e-33, 1.46496865e-28, 1.16487102e-33, ...,\n",
       "        3.23538789e-40, 3.34694304e-37, 5.08091046e-33]),\n",
       " array([7.63605107e-33, 1.48976847e-30, 5.26166253e-30, ...,\n",
       "        5.80167351e-39, 6.00171336e-36, 1.82601553e-34]),\n",
       " array([1.96358655e-40, 2.70843704e-25, 1.58931746e-29, ...,\n",
       "        5.39935323e-38, 1.52406827e-35, 2.11217282e-33]),\n",
       " array([1.27112470e-27, 1.38812236e-23, 5.00760187e-27, ...,\n",
       "        6.11850834e-25, 6.56463698e-27, 2.19389447e-30]),\n",
       " array([4.99887781e-69, 8.26779555e-73, 4.30659547e-61, ...,\n",
       "        4.70479406e-79, 3.82446737e-73, 7.62570568e-78]),\n",
       " array([1.04545652e-47, 1.79400325e-42, 1.34998306e-42, ...,\n",
       "        6.71913973e-57, 9.38763888e-53, 1.27259330e-51]),\n",
       " array([4.91562357e-62, 9.39415557e-60, 1.18548891e-54, ...,\n",
       "        8.14765857e-74, 8.02478643e-65, 4.84697500e-64]),\n",
       " array([5.59455352e-45, 2.82519128e-45, 2.74415919e-42, ...,\n",
       "        2.48267834e-55, 7.57563666e-55, 2.69797241e-51]),\n",
       " array([2.27521939e-59, 4.43344066e-61, 2.73462605e-56, ...,\n",
       "        4.52661306e-63, 1.90779522e-64, 2.86536488e-63]),\n",
       " array([6.02115832e-56, 2.52217198e-52, 8.87035984e-51, ...,\n",
       "        1.29841646e-60, 4.32013143e-56, 4.47299311e-55]),\n",
       " array([4.63253325e-47, 3.12844322e-42, 1.91017083e-37, ...,\n",
       "        3.40461006e-55, 1.65496222e-56, 6.52235215e-58]),\n",
       " array([1.74016996e-61, 8.61715655e-67, 4.85692745e-56, ...,\n",
       "        6.23005863e-70, 4.93645664e-65, 1.48593393e-66]),\n",
       " array([1.69576819e-44, 8.97854781e-39, 8.32212318e-32, ...,\n",
       "        4.65075925e-48, 1.14573998e-44, 1.01344034e-45]),\n",
       " array([1.01012565e-78, 3.31546986e-77, 4.59266052e-70, ...,\n",
       "        1.52622244e-79, 6.48945367e-74, 8.39663703e-79]),\n",
       " array([2.67414451e-37, 1.17547687e-36, 1.74801887e-30, ...,\n",
       "        2.27073723e-42, 5.59408539e-39, 4.94813126e-40]),\n",
       " array([1.76133826e-58, 1.19964763e-58, 2.90346184e-54, ...,\n",
       "        1.50939059e-65, 6.72541603e-63, 8.35087188e-68]),\n",
       " array([2.83315770e-56, 7.62188446e-55, 4.81826440e-49, ...,\n",
       "        4.65486765e-58, 8.08039446e-48, 2.87428421e-52]),\n",
       " array([1.17481321e-64, 7.95146151e-64, 1.49450189e-56, ...,\n",
       "        1.72955737e-73, 1.29488460e-67, 1.22803783e-72]),\n",
       " array([1.56904461e-24, 2.22475197e-25, 5.72924367e-19, ...,\n",
       "        2.42415850e-25, 1.85678766e-23, 4.82616657e-24]),\n",
       " array([5.63423318e-68, 3.50844945e-70, 1.97748345e-59, ...,\n",
       "        4.38572801e-70, 3.47508065e-65, 1.04604185e-66]),\n",
       " array([5.03570942e-41, 1.49922119e-30, 2.22065504e-19, ...,\n",
       "        6.64492208e-42, 4.25595851e-39, 5.16049952e-37]),\n",
       " array([8.19826138e-56, 1.44410470e-48, 5.01284703e-49, ...,\n",
       "        7.75285066e-61, 2.77559573e-59, 1.25306525e-60]),\n",
       " array([3.28998195e-33, 2.34858352e-25, 1.94511321e-20, ...,\n",
       "        1.89011789e-33, 2.75195644e-34, 4.36885768e-32]),\n",
       " array([2.09248543e-56, 9.77169305e-58, 8.84282731e-52, ...,\n",
       "        6.86734875e-58, 4.80332236e-54, 6.15883687e-58]),\n",
       " array([3.57023567e-35, 3.89150169e-35, 8.68588499e-27, ...,\n",
       "        3.69008964e-41, 2.56766295e-35, 4.42082158e-39]),\n",
       " array([1.53034989e-23, 3.64378338e-23, 1.80405497e-16, ...,\n",
       "        3.33856994e-29, 4.53300002e-21, 2.76833661e-24]),\n",
       " array([3.99546987e-19, 8.37276670e-19, 2.88315613e-21, ...,\n",
       "        5.55451917e-23, 1.76339543e-23, 4.58342129e-24]),\n",
       " array([4.24438307e-56, 4.34452118e-51, 6.53240087e-48, ...,\n",
       "        3.79601029e-60, 4.80263466e-51, 1.89276070e-52]),\n",
       " array([1.30188336e-76, 8.07574979e-76, 1.92477225e-71, ...,\n",
       "        5.89465185e-87, 6.30815113e-81, 2.22267218e-80]),\n",
       " array([1.31469811e-67, 7.16407775e-60, 8.88860438e-62, ...,\n",
       "        1.58271193e-75, 7.87442552e-67, 6.86621662e-72]),\n",
       " array([5.38806180e-80, 1.46133923e-78, 1.95107522e-77, ...,\n",
       "        5.50205713e-89, 5.81180834e-85, 1.56405716e-84]),\n",
       " array([3.22362130e-66, 4.13613235e-58, 1.02569480e-56, ...,\n",
       "        2.04882774e-64, 2.81523207e-63, 6.47241548e-65]),\n",
       " array([5.02104862e-54, 2.79153887e-54, 1.82185424e-50, ...,\n",
       "        1.99098804e-66, 3.07628420e-59, 9.25999235e-61]),\n",
       " array([1.30411398e-47, 5.72729626e-49, 2.36563748e-42, ...,\n",
       "        6.57047410e-49, 6.79702195e-46, 7.87159569e-47]),\n",
       " array([1.99608983e-44, 4.87901012e-52, 4.10006571e-46, ...,\n",
       "        2.31099253e-52, 1.99813285e-45, 4.67750148e-47]),\n",
       " array([6.39814602e-61, 6.96507439e-66, 5.84687183e-56, ...,\n",
       "        8.55847424e-66, 2.84760204e-61, 1.12226509e-62]),\n",
       " array([1.28376299e-47, 4.45051449e-43, 1.05790476e-41, ...,\n",
       "        5.45820617e-46, 4.48950826e-43, 9.70120052e-47]),\n",
       " array([4.33938326e-38, 3.03162025e-54, 1.26678372e-45, ...,\n",
       "        3.71638346e-51, 2.73171158e-50, 1.66823137e-51]),\n",
       " array([2.32242320e-25, 1.68118625e-25, 5.14806966e-21, ...,\n",
       "        6.58738122e-31, 4.51028572e-26, 2.38540624e-29]),\n",
       " array([2.56045546e-58, 6.88024615e-60, 2.11750784e-52, ...,\n",
       "        1.86438518e-65, 1.47726646e-60, 4.44675303e-62]),\n",
       " array([1.54978634e-53, 1.25653135e-54, 5.25050411e-46, ...,\n",
       "        2.01372189e-57, 2.81346938e-53, 1.45174500e-54]),\n",
       " array([1.29647859e-69, 4.91504960e-75, 1.86005316e-63, ...,\n",
       "        6.25043521e-75, 1.17943414e-69, 2.71160161e-71]),\n",
       " array([1.75880063e-56, 6.35978713e-45, 8.08812252e-52, ...,\n",
       "        1.91263633e-63, 6.23088232e-63, 1.66444288e-62]),\n",
       " array([4.54899085e-66, 4.18664569e-68, 3.51450385e-58, ...,\n",
       "        7.38060971e-65, 1.71166884e-63, 6.74583795e-65]),\n",
       " array([2.50696565e-44, 3.95884330e-49, 2.97699801e-46, ...,\n",
       "        1.14176581e-57, 1.59521687e-53, 8.23128958e-55]),\n",
       " array([3.47178109e-29, 9.83428325e-23, 5.52008955e-24, ...,\n",
       "        5.21323402e-35, 2.26458664e-32, 3.43372123e-33]),\n",
       " array([1.65091825e-23, 5.98790106e-22, 6.09092426e-23, ...,\n",
       "        4.86366351e-27, 3.72533000e-25, 2.54384079e-23]),\n",
       " array([1.88149801e-89, 2.70701464e-95, 3.10089821e-81, ...,\n",
       "        3.62443742e-95, 1.00516377e-85, 2.49479332e-87]),\n",
       " array([1.32038021e-71, 2.08848680e-76, 3.56689320e-67, ...,\n",
       "        4.38156299e-77, 8.16083800e-74, 1.43302892e-75]),\n",
       " array([1.89358268e-35, 6.05959617e-37, 4.08917752e-33, ...,\n",
       "        1.13575454e-39, 1.17491499e-36, 1.14296123e-34]),\n",
       " array([1.43007253e-24, 4.05846225e-31, 3.71843692e-26, ...,\n",
       "        3.61641327e-28, 3.30239834e-26, 1.36844487e-26]),\n",
       " array([6.26664161e-25, 1.69498004e-34, 4.68952447e-31, ...,\n",
       "        4.15662027e-37, 5.01723693e-31, 3.09093004e-35]),\n",
       " array([1.04978708e-50, 3.11935342e-52, 8.65093291e-45, ...,\n",
       "        3.64055439e-52, 8.96870490e-49, 7.93308037e-50]),\n",
       " array([5.77469257e-59, 2.65322377e-62, 1.87662693e-59, ...,\n",
       "        7.40872405e-67, 1.95899369e-62, 2.60794998e-64]),\n",
       " array([2.09551811e-62, 3.93812930e-61, 3.56378338e-55, ...,\n",
       "        3.44292853e-64, 4.81028390e-60, 2.48209761e-61]),\n",
       " array([1.18559564e-42, 1.76480731e-44, 1.86299009e-39, ...,\n",
       "        4.57623234e-41, 2.91503044e-40, 2.20992791e-35]),\n",
       " array([5.73608706e-65, 1.37652128e-76, 1.81589497e-70, ...,\n",
       "        7.03134409e-74, 3.10151224e-74, 1.08851073e-75]),\n",
       " array([1.67644599e-34, 2.58499016e-39, 1.59022150e-33, ...,\n",
       "        2.91507727e-39, 1.26628596e-36, 1.92002942e-37]),\n",
       " array([1.02524358e-27, 1.45369525e-28, 1.98368386e-24, ...,\n",
       "        1.19612399e-25, 1.83113249e-23, 7.13764867e-24]),\n",
       " array([5.59971682e-54, 4.52924213e-56, 5.66269975e-47, ...,\n",
       "        3.44500984e-52, 9.55011050e-49, 1.31282476e-52]),\n",
       " array([6.85908905e-41, 1.50903002e-42, 2.37252781e-38, ...,\n",
       "        6.58961176e-45, 6.81681948e-42, 2.07401078e-40]),\n",
       " array([1.06486059e-17, 2.00799528e-21, 4.08095645e-18, ...,\n",
       "        2.15073161e-21, 6.91746867e-20, 2.35406936e-20]),\n",
       " array([6.81895153e-69, 4.25182989e-74, 1.16465330e-65, ...,\n",
       "        3.91364622e-77, 8.03631683e-69, 1.42619247e-70]),\n",
       " array([1.05039362e-23, 2.35931644e-27, 3.21947667e-23, ...,\n",
       "        4.86340191e-24, 1.96909574e-25, 5.11807799e-26]),\n",
       " array([2.89063340e-17, 7.16523653e-21, 1.45622943e-17, ...,\n",
       "        9.82397649e-18, 5.41489595e-16, 2.14971396e-16]),\n",
       " array([2.09764754e-49, 5.90633157e-51, 4.14929559e-45, ...,\n",
       "        3.41993952e-37, 2.27042285e-40, 5.91300599e-44]),\n",
       " array([1.95490255e-43, 3.10883661e-36, 3.07184335e-40, ...,\n",
       "        2.94559841e-41, 1.70217107e-35, 9.43426304e-33]),\n",
       " array([1.83255157e-59, 1.24026550e-52, 4.97465663e-55, ...,\n",
       "        3.26326752e-55, 8.97823157e-61, 1.33965849e-61]),\n",
       " array([2.03961799e-43, 4.29931045e-48, 4.04787652e-43, ...,\n",
       "        1.22473113e-47, 2.33767402e-42, 1.99482637e-46]),\n",
       " array([1.17832099e-099, 6.61514023e-108, 3.72553150e-094, ...,\n",
       "        2.09588024e-106, 2.37705458e-102, 2.60327957e-108]),\n",
       " array([1.25733875e-49, 1.37976439e-50, 3.34381224e-52, ...,\n",
       "        1.72063660e-61, 7.15457791e-57, 3.81608047e-50]),\n",
       " array([3.80995838e-36, 5.40525982e-47, 1.49904592e-39, ...,\n",
       "        1.61416300e-40, 6.25421642e-41, 1.37465541e-44]),\n",
       " array([5.22473584e-61, 5.32564627e-63, 7.30405224e-56, ...,\n",
       "        2.12420732e-58, 5.21456511e-55, 1.40196042e-62]),\n",
       " array([8.62546594e-38, 5.82038567e-44, 1.10116477e-43, ...,\n",
       "        7.02122602e-52, 4.11922401e-48, 7.31106514e-47]),\n",
       " array([1.90300869e-71, 4.30491768e-77, 7.85766688e-65, ...,\n",
       "        4.45696932e-73, 9.52624313e-74, 4.39467711e-73]),\n",
       " array([9.57777766e-82, 6.01570323e-88, 1.02632165e-74, ...,\n",
       "        4.51468404e-82, 1.65305572e-72, 1.14176107e-70]),\n",
       " array([3.15535578e-46, 3.46035135e-51, 6.09369062e-46, ...,\n",
       "        4.19143216e-45, 5.49051390e-41, 7.88943341e-45]),\n",
       " array([3.75119636e-30, 3.30457627e-43, 1.83675038e-38, ...,\n",
       "        1.25175558e-37, 1.90421915e-42, 8.40413561e-41]),\n",
       " array([8.39652356e-48, 4.09183447e-48, 9.56059440e-44, ...,\n",
       "        1.25176024e-47, 2.62887111e-47, 9.59201628e-52]),\n",
       " array([2.37267159e-52, 8.25151237e-49, 1.64116514e-46, ...,\n",
       "        2.59149787e-55, 1.25971286e-56, 4.96463954e-58]),\n",
       " array([7.12348957e-30, 2.62221385e-30, 5.09868914e-28, ...,\n",
       "        3.71050281e-36, 1.70432518e-30, 2.44394021e-34]),\n",
       " array([3.53099624e-35, 2.17289067e-33, 6.31928541e-34, ...,\n",
       "        1.15840500e-39, 5.32083899e-34, 7.62988925e-38]),\n",
       " array([1.24142463e-60, 3.71222182e-56, 3.80017871e-47, ...,\n",
       "        1.40391913e-62, 3.14198547e-55, 1.84094663e-59]),\n",
       " array([9.27333804e-43, 1.45683762e-38, 1.68216554e-37, ...,\n",
       "        4.67215505e-44, 5.25958235e-38, 5.59736101e-42]),\n",
       " array([3.80248127e-60, 8.87844322e-55, 9.90583565e-44, ...,\n",
       "        3.40079059e-64, 5.57099992e-51, 4.45942637e-61]),\n",
       " array([3.26093276e-54, 5.24667537e-59, 6.55967301e-50, ...,\n",
       "        9.33271422e-53, 1.94230163e-51, 1.16918525e-52]),\n",
       " array([1.55554407e-57, 1.68333817e-68, 9.48787607e-58, ...,\n",
       "        3.00456738e-62, 1.66732797e-63, 4.21585976e-62]),\n",
       " array([1.30080141e-14, 6.48649670e-18, 8.10388819e-18, ...,\n",
       "        3.22508465e-18, 2.07321546e-16, 8.88776928e-14]),\n",
       " array([2.60084596e-14, 9.80274421e-18, 1.22470336e-17, ...,\n",
       "        4.87392214e-18, 3.13315520e-16, 1.59900305e-16]),\n",
       " array([7.96992345e-54, 4.72496245e-58, 2.63819844e-54, ...,\n",
       "        7.03560809e-59, 1.93922829e-56, 1.14614728e-57]),\n",
       " array([1.11913723e-19, 5.91813075e-26, 8.07576450e-22, ...,\n",
       "        1.17485799e-20, 7.45471346e-21, 2.90580423e-21]),\n",
       " array([3.19649053e-33, 8.59963997e-37, 9.98379370e-29, ...,\n",
       "        1.76682222e-31, 6.35797658e-31, 1.44574050e-31]),\n",
       " array([3.54335832e-124, 7.26172148e-134, 2.11212201e-116, ...,\n",
       "        1.09512103e-126, 1.06639091e-118, 5.00302239e-123]),\n",
       " array([1.70113108e-39, 2.53220277e-41, 5.35732171e-39, ...,\n",
       "        1.68302447e-43, 4.14622285e-40, 9.60844018e-36]),\n",
       " array([4.90911228e-51, 7.37063510e-57, 8.90779504e-50, ...,\n",
       "        6.90917807e-62, 2.29884311e-57, 1.18761208e-53]),\n",
       " array([9.95329297e-27, 1.41127971e-27, 3.63436709e-21, ...,\n",
       "        1.14797025e-24, 8.79289447e-23, 4.56784064e-23]),\n",
       " array([4.41530650e-37, 1.82467626e-38, 1.26876533e-34, ...,\n",
       "        8.85888646e-32, 1.61656424e-32, 6.29902063e-36]),\n",
       " array([1.08101223e-56, 2.17331776e-58, 7.63726766e-48, ...,\n",
       "        1.92628337e-55, 1.13011498e-51, 1.52595519e-52]),\n",
       " array([3.27031406e-34, 2.12272774e-35, 2.46439106e-27, ...,\n",
       "        1.78699606e-32, 7.76256617e-30, 2.35245013e-30]),\n",
       " array([1.99803089e-102, 1.61417473e-105, 1.22536106e-087, ...,\n",
       "        1.11460086e-104, 2.07772926e-094, 8.71272871e-092]),\n",
       " array([7.77817347e-56, 1.77334414e-56, 3.44164104e-51, ...,\n",
       "        2.12710515e-59, 8.88187567e-59, 6.97576033e-57]),\n",
       " array([4.86598404e-50, 6.52533071e-51, 1.15943813e-43, ...,\n",
       "        3.12146764e-50, 2.29823311e-50, 3.09417528e-48]),\n",
       " array([1.30511381e-45, 1.53021887e-50, 1.42937517e-40, ...,\n",
       "        9.21055706e-40, 3.31761679e-37, 1.74455399e-40]),\n",
       " array([8.77280020e-33, 3.36632519e-30, 1.18143898e-30, ...,\n",
       "        1.63541195e-33, 1.50137507e-27, 3.22866249e-31]),\n",
       " array([4.67957011e-47, 1.39049463e-48, 3.85627217e-41, ...,\n",
       "        1.62282713e-48, 2.70653200e-42, 3.53627954e-46]),\n",
       " array([2.74368142e-42, 2.78863446e-44, 1.21101060e-41, ...,\n",
       "        4.14004854e-43, 8.83376121e-44, 5.96795842e-45]),\n",
       " array([8.94644046e-34, 5.00192870e-41, 3.89899469e-32, ...,\n",
       "        5.46037993e-38, 5.93617261e-38, 2.75040119e-33]),\n",
       " array([1.06573174e-21, 9.19751258e-25, 6.52085581e-20, ...,\n",
       "        9.88402918e-27, 1.41752527e-30, 2.68940672e-26]),\n",
       " array([1.53365165e-23, 7.25300411e-25, 3.06336881e-21, ...,\n",
       "        7.26248567e-28, 3.74167145e-23, 1.44586113e-26]),\n",
       " array([2.28427332e-43, 2.26389517e-45, 1.94328701e-38, ...,\n",
       "        2.69832539e-45, 4.02335683e-42, 5.29080236e-46]),\n",
       " array([5.49456973e-33, 5.27119718e-34, 4.82956671e-29, ...,\n",
       "        5.84311665e-34, 1.06582531e-31, 4.72092341e-29]),\n",
       " array([2.13018935e-39, 1.38268434e-40, 8.50592930e-35, ...,\n",
       "        1.55924450e-40, 6.77323181e-38, 1.02700376e-38]),\n",
       " array([7.90883832e-58, 3.90831170e-56, 2.13831302e-59, ...,\n",
       "        4.11275019e-71, 1.94221682e-68, 9.82745534e-65]),\n",
       " array([2.88175161e-25, 2.86245336e-23, 5.57573268e-22, ...,\n",
       "        4.45227792e-26, 3.41022862e-24, 8.86387374e-25]),\n",
       " array([6.48517221e-61, 4.32115043e-63, 5.92639971e-56, ...,\n",
       "        2.76127929e-62, 2.88633450e-61, 1.13752990e-62]),\n",
       " array([4.77124208e-100, 2.66436281e-100, 2.52909796e-087, ...,\n",
       "        1.33832917e-091, 2.38058127e-086, 6.41028189e-079]),\n",
       " array([1.77883545e-84, 6.80844606e-86, 2.82139633e-71, ...,\n",
       "        8.05074466e-86, 3.77820480e-88, 1.07533113e-87]),\n",
       " array([5.01772216e-68, 1.05899365e-65, 2.15928605e-54, ...,\n",
       "        1.22862563e-68, 1.70587159e-69, 2.99548078e-71]),\n",
       " array([8.82519618e-52, 8.01623897e-59, 8.53583821e-50, ...,\n",
       "        1.59735090e-59, 2.43775428e-54, 8.68163358e-59]),\n",
       " array([3.48952723e-27, 6.01282441e-27, 8.47121435e-25, ...,\n",
       "        8.00030913e-36, 3.47526949e-33, 5.26944142e-34]),\n",
       " array([6.11970430e-41, 4.86066558e-38, 2.00808637e-34, ...,\n",
       "        3.36531046e-44, 1.07255069e-43, 9.48702282e-45]),\n",
       " array([3.56768595e-33, 1.05683411e-35, 4.36609789e-32, ...,\n",
       "        2.03100043e-36, 2.33200193e-41, 2.06272354e-42]),\n",
       " array([4.18657479e-72, 1.83841259e-68, 6.67522600e-63, ...,\n",
       "        2.13446571e-71, 4.23266907e-69, 4.63479972e-68]),\n",
       " array([4.17108399e-57, 1.73606867e-54, 1.31066791e-50, ...,\n",
       "        4.05674571e-63, 3.63001364e-61, 1.09267858e-62]),\n",
       " array([9.07586576e-66, 1.59619403e-69, 1.62547916e-63, ...,\n",
       "        2.33871944e-72, 5.94153988e-70, 2.59255535e-74]),\n",
       " array([2.43199745e-92, 1.05853557e-95, 1.11426968e-84, ...,\n",
       "        1.30239707e-98, 6.47235303e-90, 6.63007473e-92]),\n",
       " array([1.36830737e-72, 1.18002298e-80, 3.13228530e-73, ...,\n",
       "        1.24622495e-81, 1.03253128e-77, 9.55773114e-83]),\n",
       " array([3.66966266e-29, 4.73820158e-29, 6.59629421e-27, ...,\n",
       "        2.48508212e-32, 1.21907308e-32, 1.84844203e-33]),\n",
       " array([4.19373368e-47, 1.24613245e-48, 1.16401047e-38, ...,\n",
       "        1.85947384e-42, 2.40995255e-42, 3.16914039e-46]),\n",
       " array([4.73227803e-41, 1.53949360e-36, 8.58426057e-36, ...,\n",
       "        2.38424789e-42, 2.60802259e-36, 6.37309400e-37]),\n",
       " array([1.94489677e-27, 1.11212023e-27, 3.40549564e-23, ...,\n",
       "        1.63568057e-30, 5.81801156e-26, 1.15500180e-26]),\n",
       " array([4.21520599e-45, 5.90114055e-44, 3.47360573e-39, ...,\n",
       "        1.46179039e-46, 3.60120059e-43, 3.18536668e-44]),\n",
       " array([3.33278834e-33, 3.19729939e-34, 2.92942385e-29, ...,\n",
       "        3.54420308e-34, 6.46487412e-32, 1.28341808e-32]),\n",
       " array([8.77088491e-36, 8.69227656e-40, 5.34727182e-34, ...,\n",
       "        9.80222602e-40, 4.25800759e-37, 6.45628250e-38]),\n",
       " array([7.60134582e-103, 9.21371574e-117, 4.81349452e-099, ...,\n",
       "        1.43369552e-116, 1.20000702e-105, 7.93942224e-111]),\n",
       " array([7.79454788e-33, 7.47767355e-34, 6.85118049e-29, ...,\n",
       "        1.18920640e-30, 1.51197033e-31, 3.00158986e-32]),\n",
       " array([4.34741782e-24, 3.12927404e-24, 9.06221178e-23, ...,\n",
       "        4.35263624e-30, 8.39521500e-25, 1.32398442e-25]),\n",
       " array([1.33440945e-73, 9.47800313e-71, 1.84305179e-66, ...,\n",
       "        1.67037947e-75, 4.88449718e-68, 3.79334298e-70]),\n",
       " array([1.63574523e-38, 7.99451649e-37, 6.53159461e-34, ...,\n",
       "        1.19732396e-39, 3.91620212e-34, 7.88623085e-38]),\n",
       " array([1.97852364e-26, 4.65042960e-24, 3.82812969e-23, ...,\n",
       "        3.05679958e-27, 2.34135999e-25, 6.08566805e-26]),\n",
       " array([3.57804242e-14, 1.34858562e-17, 1.68485202e-17, ...,\n",
       "        1.13663042e-17, 2.85592635e-19, 2.48721103e-16]),\n",
       " array([3.50629960e-31, 1.41792810e-29, 2.58367130e-31, ...,\n",
       "        2.84883670e-40, 2.94706368e-37, 8.96641298e-36]),\n",
       " array([1.26843044e-45, 7.77747758e-51, 1.39992334e-44, ...,\n",
       "        4.31216128e-49, 1.51116825e-48, 3.05475310e-41]),\n",
       " array([2.07837796e-49, 4.47598979e-57, 8.33464807e-49, ...,\n",
       "        5.31432256e-57, 3.11781518e-53, 1.76934062e-51]),\n",
       " array([2.00269180e-65, 1.84316946e-67, 1.54725922e-57, ...,\n",
       "        9.02363578e-61, 8.20032091e-60, 7.09915475e-58]),\n",
       " array([1.37555942e-79, 6.66943944e-79, 9.96358329e-70, ...,\n",
       "        6.49366345e-79, 2.56076560e-68, 1.99760031e-72]),\n",
       " array([3.36830676e-62, 4.40479229e-57, 5.72837601e-55, ...,\n",
       "        7.08404775e-61, 7.73198367e-60, 1.02101625e-57]),\n",
       " array([7.79745780e-25, 1.85193239e-25, 2.38993583e-24, ...,\n",
       "        4.51093500e-22, 1.93121763e-20, 4.74715386e-24]),\n",
       " array([3.46150777e-27, 1.97477066e-24, 3.41192725e-23, ...,\n",
       "        4.01353024e-24, 2.25588007e-25, 5.97021417e-26]),\n",
       " array([7.32335615e-65, 7.74275360e-73, 2.93017048e-61, ...,\n",
       "        1.94074606e-54, 5.28808221e-58, 2.73426779e-59]),\n",
       " array([3.84699399e-81, 3.17564026e-86, 2.05518433e-75, ...,\n",
       "        8.73425666e-65, 1.15446098e-76, 1.77349847e-78]),\n",
       " array([1.89822359e-36, 2.27949590e-37, 2.32731423e-40, ...,\n",
       "        5.21663162e-48, 3.82476308e-44, 8.04107776e-41]),\n",
       " array([7.48927916e-43, 3.28907757e-44, 1.35854072e-37, ...,\n",
       "        3.77329860e-44, 3.90340073e-41, 4.84786094e-38]),\n",
       " array([6.75839142e-49, 9.12453023e-49, 6.71750955e-48, ...,\n",
       "        3.65251877e-47, 1.50513704e-43, 2.78203154e-48]),\n",
       " array([1.14901545e-46, 3.41420211e-48, 9.46863961e-41, ...,\n",
       "        4.42832289e-45, 9.81644817e-45, 8.68293396e-46]),\n",
       " array([3.59619162e-73, 1.02331178e-74, 8.75457833e-67, ...,\n",
       "        1.65837094e-72, 6.25442596e-67, 4.30996745e-68]),\n",
       " array([8.92483756e-52, 1.66808332e-46, 6.66742500e-45, ...,\n",
       "        9.43695483e-56, 5.53648762e-52, 3.74036915e-53]),\n",
       " array([3.28705758e-49, 5.63017037e-47, 8.84142185e-45, ...,\n",
       "        3.63834156e-53, 2.54481431e-49, 3.26296989e-53]),\n",
       " array([1.08461086e-37, 2.74238366e-42, 7.17955974e-33, ...,\n",
       "        1.09402352e-42, 2.49826393e-36, 2.96564893e-43]),\n",
       " array([4.78395527e-25, 1.52170289e-25, 3.76009871e-24, ...,\n",
       "        1.93776130e-28, 1.76950454e-26, 2.29326210e-27]),\n",
       " array([2.28720215e-34, 2.00804389e-37, 1.79065347e-33, ...,\n",
       "        4.46643058e-43, 9.56416335e-43, 3.54571689e-38]),\n",
       " array([2.78445435e-74, 8.59945010e-80, 2.18508306e-67, ...,\n",
       "        1.11252279e-79, 5.53244666e-71, 8.77875241e-76]),\n",
       " array([6.39593727e-43, 1.60809805e-49, 1.19943271e-41, ...,\n",
       "        1.77497437e-52, 1.04134478e-48, 2.99675382e-47]),\n",
       " array([3.15504639e-80, 9.48624062e-90, 4.13624191e-78, ...,\n",
       "        6.93608601e-89, 1.23209218e-85, 3.31577108e-85]),\n",
       " array([2.95683730e-36, 1.29974048e-35, 1.93280782e-29, ...,\n",
       "        1.66357996e-44, 4.09832023e-41, 3.62508346e-42]),\n",
       " array([1.77472808e-80, 3.42294573e-83, 2.20876595e-70, ...,\n",
       "        9.80064846e-77, 3.99705698e-70, 3.97791287e-69]),\n",
       " array([2.84561326e-40, 1.32144152e-38, 9.74148396e-33, ...,\n",
       "        1.35271374e-35, 2.95738715e-29, 4.85746459e-33]),\n",
       " array([6.96838980e-43, 1.03727315e-44, 1.09498051e-39, ...,\n",
       "        3.61345106e-34, 7.67333596e-34, 1.33601817e-31]),\n",
       " array([1.32078042e-42, 1.96603535e-44, 2.07541319e-39, ...,\n",
       "        7.06360067e-38, 2.42423795e-37, 1.68852239e-35]),\n",
       " array([1.27685969e-52, 2.56705868e-54, 4.78006690e-46, ...,\n",
       "        3.38720695e-51, 1.21053060e-47, 1.20802858e-51]),\n",
       " array([2.30467950e-61, 9.52164334e-50, 3.21001578e-52, ...,\n",
       "        1.12201733e-67, 8.89042980e-63, 2.67612830e-64]),\n",
       " array([5.66012938e-42, 2.61213032e-46, 1.70816538e-41, ...,\n",
       "        2.70673802e-46, 1.36259751e-45, 1.14135448e-46]),\n",
       " array([9.97930852e-38, 3.25943024e-30, 3.14275407e-37, ...,\n",
       "        1.32255876e-44, 3.25819586e-41, 3.77779530e-37]),\n",
       " array([1.26592432e-30, 3.80389299e-25, 1.11271059e-26, ...,\n",
       "        1.34622797e-31, 2.45561390e-29, 4.87492752e-30]),\n",
       " array([1.62264816e-27, 5.21328749e-25, 2.46121440e-25, ...,\n",
       "        1.79111585e-33, 1.51719013e-28, 6.04367653e-27]),\n",
       " array([2.33469519e-64, 1.17279223e-60, 4.51533686e-53, ...,\n",
       "        2.65543354e-70, 1.41614621e-70, 1.18438463e-69]),\n",
       " array([2.11911439e-48, 2.16411321e-42, 6.43701491e-35, ...,\n",
       "        5.23431910e-49, 9.17719257e-48, 2.13296872e-49]),\n",
       " array([2.25251119e-22, 1.18808125e-16, 5.42483674e-16, ...,\n",
       "        3.22968434e-11, 1.79943304e-10, 1.74916503e-07]),\n",
       " array([4.87076554e-37, 3.10637962e-25, 1.50926171e-23, ...,\n",
       "        5.46812834e-20, 7.31037751e-16, 1.48101363e-22]),\n",
       " array([4.09935372e-64, 4.22387347e-56, 2.86617516e-55, ...,\n",
       "        2.52355832e-68, 1.99956966e-63, 6.01894966e-65]),\n",
       " array([2.46396414e-39, 2.02670665e-50, 3.77388856e-42, ...,\n",
       "        2.40629969e-50, 2.99570353e-41, 7.92215448e-43])]"
      ]
     },
     "execution_count": 106,
     "metadata": {},
     "output_type": "execute_result"
    }
   ],
   "source": [
    "scores"
   ]
  },
  {
   "cell_type": "code",
   "execution_count": 105,
   "metadata": {},
   "outputs": [
    {
     "data": {
      "text/html": [
       "<div>\n",
       "<style scoped>\n",
       "    .dataframe tbody tr th:only-of-type {\n",
       "        vertical-align: middle;\n",
       "    }\n",
       "\n",
       "    .dataframe tbody tr th {\n",
       "        vertical-align: top;\n",
       "    }\n",
       "\n",
       "    .dataframe thead th {\n",
       "        text-align: right;\n",
       "    }\n",
       "</style>\n",
       "<table border=\"1\" class=\"dataframe\">\n",
       "  <thead>\n",
       "    <tr style=\"text-align: right;\">\n",
       "      <th></th>\n",
       "      <th>P@10</th>\n",
       "      <th>MAP</th>\n",
       "    </tr>\n",
       "  </thead>\n",
       "  <tbody>\n",
       "    <tr>\n",
       "      <td>Vsm</td>\n",
       "      <td>0</td>\n",
       "      <td>0.293912</td>\n",
       "    </tr>\n",
       "    <tr>\n",
       "      <td>LMD</td>\n",
       "      <td>0</td>\n",
       "      <td>0.288898</td>\n",
       "    </tr>\n",
       "    <tr>\n",
       "      <td>LMJM</td>\n",
       "      <td>0</td>\n",
       "      <td>0.287916</td>\n",
       "    </tr>\n",
       "    <tr>\n",
       "      <td>BM25</td>\n",
       "      <td>0</td>\n",
       "      <td>0.000000</td>\n",
       "    </tr>\n",
       "  </tbody>\n",
       "</table>\n",
       "</div>"
      ],
      "text/plain": [
       "      P@10       MAP\n",
       "Vsm      0  0.293912\n",
       "LMD      0  0.288898\n",
       "LMJM     0  0.287916\n",
       "BM25     0  0.000000"
      ]
     },
     "execution_count": 105,
     "metadata": {},
     "output_type": "execute_result"
    }
   ],
   "source": [
    "Scores_table"
   ]
  },
  {
   "cell_type": "markdown",
   "metadata": {},
   "source": [
    "### Results and discussion\n",
    "\n",
    "\n",
    "The following table summarizes the MAP and P10 results:\n",
    "\n",
    "| Retrieval Model | P10 | MAP   |\n",
    "|-----------------|-----|-------|\n",
    "| VSM             | ?   | {{map_vsm}} |\n",
    "| LMD             | ?   | ? |\n",
    "| LMJM             | ?   | ? |\n",
    "| BM25             | ?   | ? |\n",
    "\n",
    "![](results/prec-recall.png)"
   ]
  }
 ],
 "metadata": {
  "kernelspec": {
   "display_name": "Python 3",
   "language": "python",
   "name": "python3"
  },
  "language_info": {
   "codemirror_mode": {
    "name": "ipython",
    "version": 3
   },
   "file_extension": ".py",
   "mimetype": "text/x-python",
   "name": "python",
   "nbconvert_exporter": "python",
   "pygments_lexer": "ipython3",
   "version": "3.7.4"
  }
 },
 "nbformat": 4,
 "nbformat_minor": 4
}
