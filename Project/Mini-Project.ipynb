{
 "cells": [
  {
   "cell_type": "markdown",
   "metadata": {},
   "source": [
    "# Mini-Project: A Simple Search Engine from Scratch\n",
    "In this mini-project you will study the fundaments of IR.\n",
    "\n",
    "The mini-project is divided as follow:\n",
    "\n",
    "- **Week 1**: Study the provided notebook. Using the VSM retrieval model, run experiments *(section 4)* with the provided collection. Compute the metrics MAP, P10 and precision-recall curves.\n",
    "\n",
    "- **Week 2**: Implement the LMD and LMJM retrieval models and repeat the experiments with the new models. Compare it to the previous retrieval models.\n",
    "\n",
    "- **Week 3**: Implement the RM3 retrieval model and repeat the experiments with the new models. Compare it to the previous retrieval models.\n",
    "\n",
    "- **Week 4**: Implement the BM25 retrieval model and repeat the experiments with the new models. Compare it to the previous retrieval models.\n",
    "\n",
    "**Submission date: 15 October**\n",
    "\n",
    "## 1. Vector Space Model\n",
    "\n",
    "In the vector space model, documents are represented as a vector $d_j=(w_{d_j,1},w_{d_j,2}, ..., w_{d_j,n})$ of $n$ word frequencies -- most of the words are equal to 0. Queries are also represented as a vector of words $q_j=(w_{q_j,1},w_{q_j,2}, ..., w_{q_j,n})$. In the vector space model, each document word is weighted by their *tf-idf*\n",
    "\n",
    "$${tf-idf} = tf*\\frac{|D|}{log (df(w_a))}$$\n",
    "\n",
    "The vector space model is based on the cosine similarity, which measures the angle between the two vectors in the 1-unit sphere:\n",
    "\n",
    "$$cos(q,d) = \\frac{\\sum_t q_t\\cdot d_t}{\\sqrt{\\sum_t q^2_t}\\cdot \\sqrt{\\sum_t d^2_t }}$$\n",
    "\n",
    "\n",
    "Below you can read the corresponding matricial implementation for multiple documents.\n",
    "\n",
    "### Parser\n",
    "Using the CountVectorizer class of Scikit-Learn, try the different parser options by generating unigrams and bigrams with different stop words.\n"
   ]
  },
  {
   "cell_type": "code",
   "execution_count": 1,
   "metadata": {},
   "outputs": [],
   "source": [
    "import pandas as pd\n",
    "import numpy as np\n",
    "from sklearn.feature_extraction.text import CountVectorizer\n",
    "\n",
    "#instancia um objeto com a função CountVectorizer\n",
    "vectorizer = CountVectorizer()\n",
    "\n",
    "#instancia um objeto com a função CountVectorizer com parametros definidos\n",
    "#ngram_range: define os limites do tamanho dos n-grams a incluir na tokenização\n",
    "#stop_words: palavras a ignorar (são palavras comuns nos documentos, não oferecem nenhum valor adicional)\n",
    "bigram_vectorizer = CountVectorizer(ngram_range=(1, 2), token_pattern=r'\\b\\w+\\b', \n",
    "                                    min_df=1, stop_words = {'the', 'is'})\n",
    "\n",
    "#lista de documentos\n",
    "corpus = ['This is the first document.',\n",
    "'This is the second second document.',\n",
    "'And the third one.',\n",
    "'Is this the first document?', ]"
   ]
  },
  {
   "cell_type": "code",
   "execution_count": 2,
   "metadata": {},
   "outputs": [
    {
     "data": {
      "text/plain": [
       "['this', 'is', 'text', 'document', 'to', 'analyze']"
      ]
     },
     "execution_count": 2,
     "metadata": {},
     "output_type": "execute_result"
    }
   ],
   "source": [
    "#instacia um objeto com uma função que lida com o pré-processamento e tokenização\n",
    "uni_analyze = vectorizer.build_analyzer()\n",
    "\n",
    "#pré-processa e tokeniza a string dada (ignora palavras com menos de duas letras e pontuação)\n",
    "uni_analyze(\"This is a text document to analyze.\")"
   ]
  },
  {
   "cell_type": "code",
   "execution_count": 3,
   "metadata": {},
   "outputs": [
    {
     "name": "stdout",
     "output_type": "stream",
     "text": [
      "['and', 'document', 'first', 'is', 'one', 'second', 'the', 'third', 'this']\n",
      "\n",
      "[[0 1 1 1 0 0 1 0 1]\n",
      " [0 1 0 1 0 2 1 0 1]\n",
      " [1 0 0 0 1 0 1 1 0]\n",
      " [0 1 1 1 0 0 1 0 1]]\n"
     ]
    }
   ],
   "source": [
    "#instacia um objeto com uma matriz com informação acerca da frequencia das palavras em cada documento de corpus\n",
    "tf_uni = vectorizer.fit_transform(corpus).toarray()\n",
    "\n",
    "#mostra os tokens correspondente a cada coluna da matriz\n",
    "print(vectorizer.get_feature_names())\n",
    "\n",
    "print()\n",
    "\n",
    "#matriz das frequências de palavras por documento\n",
    "#cada linha é respeitante a um documento\n",
    "#cada coluna é respeitante a um token (palavra no caso uni-gram)\n",
    "print(tf_uni)"
   ]
  },
  {
   "cell_type": "code",
   "execution_count": 4,
   "metadata": {},
   "outputs": [
    {
     "data": {
      "text/html": [
       "<div>\n",
       "<style scoped>\n",
       "    .dataframe tbody tr th:only-of-type {\n",
       "        vertical-align: middle;\n",
       "    }\n",
       "\n",
       "    .dataframe tbody tr th {\n",
       "        vertical-align: top;\n",
       "    }\n",
       "\n",
       "    .dataframe thead th {\n",
       "        text-align: right;\n",
       "    }\n",
       "</style>\n",
       "<table border=\"1\" class=\"dataframe\">\n",
       "  <thead>\n",
       "    <tr style=\"text-align: right;\">\n",
       "      <th></th>\n",
       "      <th>and</th>\n",
       "      <th>document</th>\n",
       "      <th>first</th>\n",
       "      <th>is</th>\n",
       "      <th>one</th>\n",
       "      <th>second</th>\n",
       "      <th>the</th>\n",
       "      <th>third</th>\n",
       "      <th>this</th>\n",
       "    </tr>\n",
       "  </thead>\n",
       "  <tbody>\n",
       "    <tr>\n",
       "      <td>0</td>\n",
       "      <td>0</td>\n",
       "      <td>1</td>\n",
       "      <td>1</td>\n",
       "      <td>1</td>\n",
       "      <td>0</td>\n",
       "      <td>0</td>\n",
       "      <td>1</td>\n",
       "      <td>0</td>\n",
       "      <td>1</td>\n",
       "    </tr>\n",
       "    <tr>\n",
       "      <td>1</td>\n",
       "      <td>0</td>\n",
       "      <td>1</td>\n",
       "      <td>0</td>\n",
       "      <td>1</td>\n",
       "      <td>0</td>\n",
       "      <td>2</td>\n",
       "      <td>1</td>\n",
       "      <td>0</td>\n",
       "      <td>1</td>\n",
       "    </tr>\n",
       "    <tr>\n",
       "      <td>2</td>\n",
       "      <td>1</td>\n",
       "      <td>0</td>\n",
       "      <td>0</td>\n",
       "      <td>0</td>\n",
       "      <td>1</td>\n",
       "      <td>0</td>\n",
       "      <td>1</td>\n",
       "      <td>1</td>\n",
       "      <td>0</td>\n",
       "    </tr>\n",
       "    <tr>\n",
       "      <td>3</td>\n",
       "      <td>0</td>\n",
       "      <td>1</td>\n",
       "      <td>1</td>\n",
       "      <td>1</td>\n",
       "      <td>0</td>\n",
       "      <td>0</td>\n",
       "      <td>1</td>\n",
       "      <td>0</td>\n",
       "      <td>1</td>\n",
       "    </tr>\n",
       "  </tbody>\n",
       "</table>\n",
       "</div>"
      ],
      "text/plain": [
       "   and  document  first  is  one  second  the  third  this\n",
       "0    0         1      1   1    0       0    1      0     1\n",
       "1    0         1      0   1    0       2    1      0     1\n",
       "2    1         0      0   0    1       0    1      1     0\n",
       "3    0         1      1   1    0       0    1      0     1"
      ]
     },
     "execution_count": 4,
     "metadata": {},
     "output_type": "execute_result"
    }
   ],
   "source": [
    "#Test\n",
    "coln=vectorizer.get_feature_names()\n",
    "df=pd.DataFrame(vectorizer.fit_transform(corpus).toarray(),columns=coln)\n",
    "df"
   ]
  },
  {
   "cell_type": "code",
   "execution_count": 5,
   "metadata": {},
   "outputs": [
    {
     "data": {
      "text/plain": [
       "['this',\n",
       " 'a',\n",
       " 'text',\n",
       " 'document',\n",
       " 'to',\n",
       " 'analyze',\n",
       " 'this a',\n",
       " 'a text',\n",
       " 'text document',\n",
       " 'document to',\n",
       " 'to analyze']"
      ]
     },
     "execution_count": 5,
     "metadata": {},
     "output_type": "execute_result"
    }
   ],
   "source": [
    "''''Separates the words, ignores stop word \"the\" and \"is\",it also reads the document one time separating each of the words,\n",
    "then a second time separating in 2 words due to the n-gram_range(1,2)''' \n",
    "\n",
    "#instacia um objeto com uma função que lida com o pré-processamento e tokenização\n",
    "bi_analyze = bigram_vectorizer.build_analyzer()\n",
    "\n",
    "#pré-processa e tokeniza a string dada de acordo com os parâmetros definidos anteriormente (bi-gram)\n",
    "bi_analyze(\"This is a text document to analyze.\") "
   ]
  },
  {
   "cell_type": "code",
   "execution_count": 6,
   "metadata": {},
   "outputs": [
    {
     "name": "stdout",
     "output_type": "stream",
     "text": [
      "['and', 'and third', 'document', 'first', 'first document', 'one', 'second', 'second document', 'second second', 'third', 'third one', 'this', 'this first', 'this second']\n",
      "\n",
      "[[0 0 1 1 1 0 0 0 0 0 0 1 1 0]\n",
      " [0 0 1 0 0 0 2 1 1 0 0 1 0 1]\n",
      " [1 1 0 0 0 1 0 0 0 1 1 0 0 0]\n",
      " [0 0 1 1 1 0 0 0 0 0 0 1 1 0]]\n"
     ]
    }
   ],
   "source": [
    "\"\"\"Creates another sparce matrix using the bigram_vectorizer method, this one is bigger than the first method because the additional\n",
    "2-gram sparsing, it searches the document in 1-grams first then the bigrams \"\"\"\n",
    "\n",
    "#instacia um objeto com uma matriz com informação acerca da frequencia das palavras em cada documento de corpus\n",
    "tf_bi = bigram_vectorizer.fit_transform(corpus).toarray()\n",
    "\n",
    "#mostra os tokens correspondente a cada coluna da matriz\n",
    "print(bigram_vectorizer.get_feature_names())\n",
    "\n",
    "print()\n",
    "\n",
    "#matriz das frequências de palavras por documento\n",
    "#cada linha é respeitante a um documento\n",
    "#cada coluna é respeitante a um token (palavra no caso uni-gram)\n",
    "print(tf_bi)"
   ]
  },
  {
   "cell_type": "code",
   "execution_count": 7,
   "metadata": {},
   "outputs": [
    {
     "data": {
      "text/plain": [
       "2"
      ]
     },
     "execution_count": 7,
     "metadata": {},
     "output_type": "execute_result"
    }
   ],
   "source": [
    "#mostra informação acerca da frequência do token dado no corpus\n",
    "bigram_vectorizer.vocabulary_.get('document')"
   ]
  },
  {
   "cell_type": "markdown",
   "metadata": {},
   "source": [
    "### TF IDF and the cosine similarity"
   ]
  },
  {
   "cell_type": "code",
   "execution_count": 8,
   "metadata": {},
   "outputs": [
    {
     "name": "stdout",
     "output_type": "stream",
     "text": [
      "\n",
      "tf:\n",
      " [[0 1 1 1 0 0 1 0 1]\n",
      " [0 1 0 1 0 2 1 0 1]\n",
      " [1 0 0 0 1 0 1 1 0]\n",
      " [0 1 1 1 0 0 1 0 1]]\n",
      "\n",
      "idf:\n",
      " [1.38629436 0.28768207 0.69314718 0.28768207 1.38629436 1.38629436\n",
      " 0.         1.38629436 0.28768207]\n",
      "\n",
      "tfidf:\n",
      " [[0.         0.28768207 0.69314718 0.28768207 0.         0.\n",
      "  0.         0.         0.28768207]\n",
      " [0.         0.28768207 0.         0.28768207 0.         2.77258872\n",
      "  0.         0.         0.28768207]\n",
      " [1.38629436 0.         0.         0.         1.38629436 0.\n",
      "  0.         1.38629436 0.        ]\n",
      " [0.         0.28768207 0.69314718 0.28768207 0.         0.\n",
      "  0.         0.         0.28768207]]\n",
      "\n",
      "docnorms:\n",
      " [0.85366032 2.81700748 2.40113227 0.85366032]\n"
     ]
    }
   ],
   "source": [
    "termCollFreq = np.sum(tf_uni != 0, axis = 0) #frequencia de cada palavra no conjunto dos documentos\n",
    "docLen = np.sum(tf_uni, axis = 1) #numero total de palavras no conjunto dos documentos\n",
    "\n",
    "idf = np.log(np.size(corpus)/termCollFreq) #indice de raridade de cada palavra\n",
    "idf_rows = np.dot(np.ones((np.size(corpus),1)), idf.reshape(1,np.size(idf)))\n",
    "tfidf = tf_uni*idf_rows  #peso final de cada palavra em cada documento\n",
    "\n",
    "docNorms = np.sqrt(np.sum(np.power(tfidf,2), axis = 1)) #norma de cada documento\n",
    "        \n",
    "print(\"\\ntf:\\n\", tf_uni)\n",
    "print(\"\\nidf:\\n\", idf)\n",
    "print(\"\\ntfidf:\\n\", tfidf)\n",
    "print(\"\\ndocnorms:\\n\", docNorms)"
   ]
  },
  {
   "cell_type": "code",
   "execution_count": 9,
   "metadata": {},
   "outputs": [
    {
     "name": "stdout",
     "output_type": "stream",
     "text": [
      "[[0.3369983  0.10212329 0.         0.3369983 ]]\n"
     ]
    }
   ],
   "source": [
    "query = 'document'\n",
    "#checks each column of the features and only keeps the ones that are equal to the query\n",
    "query_vector = vectorizer.transform([query]).toarray()\n",
    "#Norm of the created vector\n",
    "queryNorm = np.sqrt(np.sum(np.power(query_vector, 2), axis = 1))\n",
    "\n",
    "#Scores the query_vector for each document.\n",
    "#The second document has the same frequencie of the word document as the first and forth, but due to a bigger docNorm because,\n",
    "#this document has more words and the score is lower.\n",
    "doc_scores = np.dot(query_vector, tfidf.T)/(docNorms*queryNorm)\n",
    "\n",
    "print(doc_scores)"
   ]
  },
  {
   "cell_type": "code",
   "execution_count": 10,
   "metadata": {},
   "outputs": [
    {
     "name": "stdout",
     "output_type": "stream",
     "text": [
      "Index(['document'], dtype='object')\n"
     ]
    }
   ],
   "source": [
    "#Test\n",
    "q_df=pd.DataFrame(vectorizer.transform([query]).toarray(),columns=coln)\n",
    "print(q_df[q_df!=0].dropna(axis=1).columns)\n",
    "#range(1:(np.sum(q_df.values)))\n",
    "#np.sum(q_df,axis=1)"
   ]
  },
  {
   "cell_type": "markdown",
   "metadata": {},
   "source": [
    "### Inverted Index\n",
    "The matricial implementation is not scalable because it computes the similarity for all documents in the collection. However, one should only compute the similarity for the documents containing the query words. This is where the inverted index comes to our rescue.\n",
    "\n",
    "Read the inverted index implementation presented next. Describe in your own words how the cosine similarity should be implemented with the inverted index:\n"
   ]
  },
  {
   "cell_type": "code",
   "execution_count": 11,
   "metadata": {},
   "outputs": [
    {
     "name": "stdout",
     "output_type": "stream",
     "text": [
      "==== Creating the posting list for token \" and \"\n",
      "[(1, 2)]\n",
      "==== Creating the posting list for token \" document \"\n",
      "[(1, 0), (1, 1), (1, 3)]\n",
      "==== Creating the posting list for token \" first \"\n",
      "[(1, 0), (1, 3)]\n",
      "==== Creating the posting list for token \" is \"\n",
      "[(1, 0), (1, 1), (1, 3)]\n",
      "==== Creating the posting list for token \" one \"\n",
      "[(1, 2)]\n",
      "==== Creating the posting list for token \" second \"\n",
      "[(2, 1)]\n",
      "==== Creating the posting list for token \" the \"\n",
      "[(1, 0), (1, 1), (1, 2), (1, 3)]\n",
      "==== Creating the posting list for token \" third \"\n",
      "[(1, 2)]\n",
      "==== Creating the posting list for token \" this \"\n",
      "[(1, 0), (1, 1), (1, 3)]\n"
     ]
    }
   ],
   "source": [
    "features = vectorizer.get_feature_names()\n",
    "\n",
    "#Creates a dictionary whit the posting lists and the feature names\n",
    "i = 0\n",
    "inverted_index = dict()\n",
    "for token in features:\n",
    "    print(\"==== Creating the posting list for token \\\"\", token, \"\\\"\")\n",
    "    docs_with_token = np.where(tf_uni[:,i] != 0)\n",
    "    len = np.size(docs_with_token,1)\n",
    "    \n",
    "    postings_matrix = np.concatenate([tf_uni[docs_with_token,i], docs_with_token])\n",
    "    postings_list = list(map(tuple, postings_matrix.T))\n",
    "    inverted_index[token] = postings_list\n",
    "    # each line shows the frequencie of the word and the the correspondent document where the word was found\n",
    "    # this is used to map the information on the database.\n",
    "    print(postings_list)\n",
    "    i = i + 1"
   ]
  },
  {
   "cell_type": "markdown",
   "metadata": {},
   "source": [
    "### Evaluation\n",
    "Using the Vector Space Model, run the experiments of section 4.\n",
    "\n",
    "We advice you to use an external Python IDE for editing more complex implementations. **The Notebook should be used as a notebook, not as an IDE**. Your implementations should be organized on external classes as below:"
   ]
  },
  {
   "cell_type": "code",
   "execution_count": 12,
   "metadata": {},
   "outputs": [],
   "source": [
    "import RetrievalModelsMatrix as b\n",
    "\n",
    "aa = b.RetrievalModelsMatrix(tf_uni, vectorizer)\n",
    "#unfinished in retrieval methods \n",
    "#aa.score_lmd(\"document\",1)"
   ]
  },
  {
   "cell_type": "markdown",
   "metadata": {},
   "source": [
    "### Precision-Recall Curve"
   ]
  },
  {
   "cell_type": "code",
   "execution_count": 13,
   "metadata": {},
   "outputs": [
    {
     "name": "stdout",
     "output_type": "stream",
     "text": [
      "[0.         1.         0.66666667 0.5       ]\n"
     ]
    },
    {
     "data": {
      "text/plain": [
       "array([0., 1., 1., 1.])"
      ]
     },
     "execution_count": 13,
     "metadata": {},
     "output_type": "execute_result"
    }
   ],
   "source": [
    "import MeanAveragePrecision as m\n",
    "bb=m.MeanAveragePrecision(tf_uni,vectorizer)\n",
    "\n",
    "print(bb.cumulative_pscore('second'))  #Will be used to determine the precision recall curve\n",
    "bb.recall('second')   "
   ]
  },
  {
   "cell_type": "code",
   "execution_count": 14,
   "metadata": {},
   "outputs": [
    {
     "data": {
      "text/plain": [
       "[<matplotlib.lines.Line2D at 0x7f9ba31fb350>]"
      ]
     },
     "execution_count": 14,
     "metadata": {},
     "output_type": "execute_result"
    },
    {
     "data": {
      "image/png": "[encoded data removed]",
      "text/plain": [
       "<Figure size 640x480 with 1 Axes>"
      ]
     },
     "metadata": {},
     "output_type": "display_data"
    }
   ],
   "source": [
    "bb.pr_curve('document')"
   ]
  },
  {
   "cell_type": "markdown",
   "metadata": {},
   "source": [
    "## 2. Retrieval Models\n",
    "\n",
    "In this section you will implement three of the most popular retrieval model. After finishing each retrieval model implementation, run the experiments of section 4 with the new model.\n",
    "\n",
    "### Language Model with Jelineck-Mercer Smoothing (20%)\n",
    "The family of Language Models for retrieval build on the density distribution of the terms over each document and the density distribution of terms over the collection of documents.\n",
    "\n",
    "There several ways of avoiding the zero probabilities problem with term smoothing.  The Jelineck-Mercer smoothing model uses a mixture of probabilities between the document model $M_d$ and the corpus model $M_c$:\n",
    "\n",
    "$$p(q|d,C)= \\lambda \\cdot p(q|M_d) + (1-\\lambda)\\cdot p(q|M_c)$$\n",
    "\n",
    "Implement the LMJM retrieval model using the matricial definitions:"
   ]
  },
  {
   "cell_type": "code",
   "execution_count": 15,
   "metadata": {},
   "outputs": [],
   "source": [
    "# p(q|Md) = probabilidade do termo da query aparecer no documento d =\n",
    "#         = nr vezes termo t no doc / nr total de termos do doc\n",
    "\n",
    "# p(q|Mc) = probabilidade do termo da query no corpus =\n",
    "#         = nr vezes termo t no corpus / nr total de termos do corpus"
   ]
  },
  {
   "cell_type": "code",
   "execution_count": 16,
   "metadata": {},
   "outputs": [
    {
     "name": "stdout",
     "output_type": "stream",
     "text": [
      "lam: 0.5\n",
      "\n",
      "corpus: ['Jackson one most talented entertainers all time', 'Michael Jackson anointed himself King Pop']\n",
      "\n",
      "tf:\n",
      "[[1 0 1 0 1 0 0 1 1 0 1 1]\n",
      " [0 1 0 1 1 1 1 0 0 1 0 0]]\n",
      "\n",
      "query_vector: [[0 0 0 0 1 0 1 0 0 0 0 0]]\n",
      "\n",
      "total_tokens_corpus: 13\n",
      "\n",
      "Mc: [0.07692308 0.07692308 0.07692308 0.07692308 0.15384615 0.07692308\n",
      " 0.07692308 0.07692308 0.07692308 0.07692308 0.07692308 0.07692308]\n",
      "\n",
      "tokens_per_doc: [7 6]\n",
      "\n",
      "Pd: [[0.14285714 0.         0.14285714 0.         0.14285714 0.\n",
      "  0.         0.14285714 0.14285714 0.         0.14285714 0.14285714]\n",
      " [0.         0.16666667 0.         0.16666667 0.16666667 0.16666667\n",
      "  0.16666667 0.         0.         0.16666667 0.         0.        ]]\n",
      "\n",
      "Pc: [0.07692308 0.07692308 0.07692308 0.07692308 0.15384615 0.07692308\n",
      " 0.07692308 0.07692308 0.07692308 0.07692308 0.07692308 0.07692308]\n",
      "\n",
      "Ed: [[1.         1.         1.         1.         0.14285714 1.\n",
      "  0.         1.         1.         1.         1.         1.        ]\n",
      " [1.         1.         1.         1.         0.16666667 1.\n",
      "  0.16666667 1.         1.         1.         1.         1.        ]]\n",
      "\n",
      "Ec: [[1.         1.         1.         1.         0.15384615 1.\n",
      "  0.07692308 1.         1.         1.         1.         1.        ]]\n",
      "\n",
      "scores: [0.00570583 0.01951841]\n",
      "\n",
      "query: Michael Jackson\n",
      "corpus: ['Jackson one most talented entertainers all time', 'Michael Jackson anointed himself King Pop']\n"
     ]
    }
   ],
   "source": [
    "from sklearn.feature_extraction.text import CountVectorizer\n",
    "\n",
    "vectorizer = CountVectorizer()\n",
    "\n",
    "lam = 0.5; print(\"lam:\",lam) #escolher o lambda ---> lambda\n",
    "\n",
    "corpus = ['Jackson one most talented entertainers all time',\n",
    "          'Michael Jackson anointed himself King Pop']\n",
    "print(\"\\ncorpus:\",corpus)\n",
    "\n",
    "tf = vectorizer.fit_transform(corpus).toarray(); #numero de vezes que cada token aparece em cada documento ---> f_td\n",
    "print(\"\\ntf:\"); print(tf)\n",
    "\n",
    "query = \"Michael Jackson\"; query_vector = vectorizer.transform([query]).toarray();\n",
    "print(\"\\nquery_vector:\",query_vector)\n",
    "\n",
    "\n",
    "#numero de tokens no corpus (soma da soma colunas da matriz tf)\n",
    "total_tokens_corpus = sum(np.sum(tf,axis=0)); print(\"\\ntotal_tokens_corpus:\", total_tokens_corpus)\n",
    "\n",
    "#frequencia de cada token no corpus (soma de cada coluna da tf a dividir pelo numero total de tokens do corpus) ---> Mc(t)\n",
    "Mc = np.sum(tf,axis=0) / total_tokens_corpus ; print(\"\\nMc:\",Mc)\n",
    "\n",
    "#numero de tokens em cada documento (soma de cada linha da matriz tf)  ---> |d|\n",
    "tokens_per_doc  = np.sum(tf,axis=1); print(\"\\ntokens_per_doc:\",tokens_per_doc)\n",
    "\n",
    "\n",
    "#Calculo dos scores\n",
    "\n",
    "#probabilidades\n",
    "Pd = tf / tokens_per_doc[:,None]; print(\"\\nPd:\", Pd)\n",
    "Pc = Mc; print(\"\\nPc:\", Pc)\n",
    "\n",
    "#elevar ao vetor da query (query_vector) ---> P(t|Md,Mc) ^ q(t)\n",
    "Ed = np.power(Pd, query_vector); print(\"\\nEd:\", Ed)\n",
    "Ec = np.power(Pc, query_vector); print(\"\\nEc:\", Ec)\n",
    "\n",
    "#produto das probabilidades ---> produtorio( P(t|Md,Mc)^ q(t) )\n",
    "scores = np.prod(lam*Ed + (1-lam)*Ec, axis=1)\n",
    "print(\"\\nscores:\",scores)\n",
    "\n",
    "\n",
    "#compara os resultados com os documentos do corpus para ver se fazem sentido\n",
    "print(\"\\nquery:\", query)\n",
    "print(\"corpus:\", corpus)"
   ]
  },
  {
   "cell_type": "code",
   "execution_count": 17,
   "metadata": {},
   "outputs": [
    {
     "name": "stdout",
     "output_type": "stream",
     "text": [
      "[1. 1. 1. 1.]\n"
     ]
    }
   ],
   "source": [
    "from sklearn.feature_extraction.text import CountVectorizer\n",
    "\n",
    "vectorizer = CountVectorizer()\n",
    "\n",
    "corpus = ['Jackson one most talented entertainers all time',\n",
    "          'Michael Jackson anointed himself King Pop']\n",
    "\n",
    "tf = vectorizer.fit_transform(corpus).toarray()\n",
    "\n",
    "query = \"Michael Jackson\"\n",
    "query_vector = vectorizer.transform([query]).toarray()\n",
    "\n",
    "doc_scores=aa.score_lmjm(query,0.5)\n",
    "\n",
    "print(doc_scores)"
   ]
  },
  {
   "cell_type": "markdown",
   "metadata": {},
   "source": [
    "Implement the LMJM retrieval model using the inverted-index data structures:"
   ]
  },
  {
   "cell_type": "code",
   "execution_count": 18,
   "metadata": {},
   "outputs": [
    {
     "name": "stdout",
     "output_type": "stream",
     "text": [
      "[0.175      0.15833333 0.075      0.175     ]\n"
     ]
    }
   ],
   "source": [
    "query = \"document\"\n",
    "\n",
    "doc_scores=aa.score_lmjm(query,0.5)\n",
    "\n",
    "print(doc_scores)"
   ]
  },
  {
   "cell_type": "markdown",
   "metadata": {},
   "source": [
    "### Language Model with Dirichlet Smoothing (20%)\n",
    "Another way of avoiding the zero probabilities problem is with the Dirichlet smoothing model that uses a mixture of frequencies between the term document frequencies $f_{t,c}$ and the term corpus frequency $\\mu \\cdot M_c(t)$:\n",
    "\n",
    "$$p(t|M_d, M_c)= \\frac{f_{t,d}+\\mu \\cdot M_c(t)}{|d| + \\mu}$$\n",
    "\n",
    "Implement the LMD retrieval model using the matricial definitions:\n"
   ]
  },
  {
   "cell_type": "code",
   "execution_count": 19,
   "metadata": {},
   "outputs": [
    {
     "name": "stdout",
     "output_type": "stream",
     "text": [
      "miu: 100\n",
      "\n",
      "corpus: ['Jackson one most talented entertainers all time', 'Michael Jackson anointed himself King Pop']\n",
      "\n",
      "tf:\n",
      "[[1 0 1 0 1 0 0 1 1 0 1 1]\n",
      " [0 1 0 1 1 1 1 0 0 1 0 0]]\n",
      "\n",
      "query_vector: [[0 0 0 0 1 0 1 0 0 0 0 0]]\n",
      "\n",
      "total_tokens_corpus: 13\n",
      "\n",
      "Mc: [0.07692308 0.07692308 0.07692308 0.07692308 0.15384615 0.07692308\n",
      " 0.07692308 0.07692308 0.07692308 0.07692308 0.07692308 0.07692308]\n",
      "\n",
      "tokens_per_doc: [7 6]\n",
      "\n",
      "p: [[0.08123652 0.07189073 0.08123652 0.07189073 0.15312725 0.07189073\n",
      "  0.07189073 0.08123652 0.08123652 0.07189073 0.08123652 0.08123652]\n",
      " [0.07256894 0.0820029  0.07256894 0.0820029  0.15457184 0.0820029\n",
      "  0.0820029  0.07256894 0.07256894 0.0820029  0.07256894 0.07256894]]\n",
      "\n",
      "e: [[1.         1.         1.         1.         0.15312725 1.\n",
      "  0.07189073 1.         1.         1.         1.         1.        ]\n",
      " [1.         1.         1.         1.         0.15457184 1.\n",
      "  0.0820029  1.         1.         1.         1.         1.        ]]\n",
      "\n",
      "scores: [0.01100843 0.01267534]\n",
      "\n",
      "query: Michael Jackson\n",
      "corpus: ['Jackson one most talented entertainers all time', 'Michael Jackson anointed himself King Pop']\n"
     ]
    }
   ],
   "source": [
    "from sklearn.feature_extraction.text import CountVectorizer\n",
    "\n",
    "vectorizer = CountVectorizer()\n",
    "\n",
    "miu = 100; print(\"miu:\",miu) #escolher o miu ---> miu\n",
    "\n",
    "corpus = ['Jackson one most talented entertainers all time',\n",
    "          'Michael Jackson anointed himself King Pop']\n",
    "print(\"\\ncorpus:\",corpus)\n",
    "\n",
    "tf = vectorizer.fit_transform(corpus).toarray(); #numero de vezes que cada token aparece em cada documento ---> f_td\n",
    "print(\"\\ntf:\"); print(tf)\n",
    "\n",
    "query = \"Michael Jackson\"; query_vector = vectorizer.transform([query]).toarray();\n",
    "print(\"\\nquery_vector:\",query_vector)\n",
    "\n",
    "\n",
    "#numero de tokens no corpus (soma da soma colunas da matriz tf)\n",
    "total_tokens_corpus = sum(np.sum(tf,axis=0)); print(\"\\ntotal_tokens_corpus:\", total_tokens_corpus)\n",
    "\n",
    "#frequencia de cada token no corpus (soma de cada coluna da tf a dividir pelo numero total de tokens do corpus) ---> Mc(t)\n",
    "Mc = np.sum(tf,axis=0) / total_tokens_corpus ; print(\"\\nMc:\",Mc)\n",
    "\n",
    "#numero de tokens em cada documento (soma de cada linha da matriz tf)  ---> |d|\n",
    "tokens_per_doc  = np.sum(tf,axis=1); print(\"\\ntokens_per_doc:\",tokens_per_doc)\n",
    "\n",
    "\n",
    "#Calculo dos scores\n",
    "\n",
    "#probabilidades ---> P(t|Md,Mc)\n",
    "p = (tf + miu*Mc)/(tokens_per_doc[:,None] + miu); print(\"\\np:\",p)\n",
    "\n",
    "#elevar ao vetor da query (query_vector) ---> P(t|Md,Mc) ^ q(t)\n",
    "e = np.power(p, query_vector); print(\"\\ne:\",e)\n",
    "\n",
    "#produto das probabilidades ---> produtorio( P(t|Md,Mc)^ q(t) )\n",
    "scores = np.prod(e, axis=1); print(\"\\nscores:\",scores)\n",
    "\n",
    "\n",
    "#compara os resultados com os documentos do corpus para ver se fazem sentido\n",
    "print(\"\\nquery:\", query)\n",
    "print(\"corpus:\", corpus)"
   ]
  },
  {
   "cell_type": "code",
   "execution_count": 20,
   "metadata": {},
   "outputs": [
    {
     "name": "stdout",
     "output_type": "stream",
     "text": [
      "[0.01100843 0.01267534]\n"
     ]
    }
   ],
   "source": [
    "from sklearn.feature_extraction.text import CountVectorizer\n",
    "\n",
    "vectorizer = CountVectorizer()\n",
    "\n",
    "corpus = ['Jackson one most talented entertainers all time',\n",
    "          'Michael Jackson anointed himself King Pop']\n",
    "\n",
    "tf = vectorizer.fit_transform(corpus).toarray()\n",
    "\n",
    "query = \"Michael Jackson\"\n",
    "query_vector = vectorizer.transform([query]).toarray()\n",
    "\n",
    "import RetrievalModelsMatrix as b\n",
    "aa = b.RetrievalModelsMatrix(tf, vectorizer)\n",
    "\n",
    "doc_scores = aa.score_lmd(query, 100)\n",
    "print(doc_scores)"
   ]
  },
  {
   "cell_type": "markdown",
   "metadata": {},
   "source": [
    "Implement the LMD retrieval model using the inverted-index data structures:"
   ]
  },
  {
   "cell_type": "code",
   "execution_count": 21,
   "metadata": {},
   "outputs": [
    {
     "name": "stdout",
     "output_type": "stream",
     "text": [
      "[0.01100843 0.01267534]\n"
     ]
    }
   ],
   "source": [
    "query = \"document\"\n",
    "\n",
    "# TO DO: LMD model\n",
    "\n",
    "print(doc_scores)"
   ]
  },
  {
   "cell_type": "markdown",
   "metadata": {},
   "source": [
    "### BM 25 (20%)\n",
    "\n",
    "The BM25 is model is an evolution of the tf-idf weighting based on a two Poisson distribution per term. It is obviously impossible to estimate each term distribution -- the approximation to the two Poisson distribution is given by the expression:\n",
    "\n",
    "$$RSV = \\sum q_t \\cdot \\frac{f_{t,d}(k_1 + 1)}{k_1 ((1-b) + b(\\frac{l_d}{l_avg})) + f_{t,d} }\\cdot IDF_t$$\n",
    "\n",
    "Implement the BM5 retrieval model using the matricial definitions:"
   ]
  },
  {
   "cell_type": "code",
   "execution_count": 22,
   "metadata": {},
   "outputs": [
    {
     "name": "stdout",
     "output_type": "stream",
     "text": [
      "[0.01100843 0.01267534]\n"
     ]
    }
   ],
   "source": [
    "query = \"document\"\n",
    "\n",
    "# TO DO: BM25 model\n",
    "\n",
    "print(doc_scores)"
   ]
  },
  {
   "cell_type": "markdown",
   "metadata": {},
   "source": [
    "Implement the BM25 retrieval model using the inverted-index data structures:"
   ]
  },
  {
   "cell_type": "code",
   "execution_count": 23,
   "metadata": {},
   "outputs": [
    {
     "name": "stdout",
     "output_type": "stream",
     "text": [
      "[0.01100843 0.01267534]\n"
     ]
    }
   ],
   "source": [
    "query = \"document\"\n",
    "\n",
    "# TO DO: BM25 model\n",
    "\n",
    "print(doc_scores)"
   ]
  },
  {
   "cell_type": "markdown",
   "metadata": {},
   "source": [
    "### Evaluation\n",
    "Using the implemented Retrieval Models, run the experiments of section 4.\n"
   ]
  },
  {
   "cell_type": "markdown",
   "metadata": {},
   "source": [
    "## 3. Pseudo-Relevance Feedback (RM3) (20%)\n",
    "\n",
    "Using the RM3 Model, run the experiments of section 4.\n",
    "\n",
    "Implement the RM3 retrieval model using the matricial definitions:"
   ]
  },
  {
   "cell_type": "code",
   "execution_count": 24,
   "metadata": {},
   "outputs": [
    {
     "name": "stdout",
     "output_type": "stream",
     "text": [
      "[0.01100843 0.01267534]\n"
     ]
    }
   ],
   "source": [
    "query = \"document\"\n",
    "\n",
    "# TO DO: RM3 model\n",
    "\n",
    "print(doc_scores)"
   ]
  },
  {
   "cell_type": "markdown",
   "metadata": {},
   "source": [
    "Implement the RM3 retrieval model using the inverted-index data structures:"
   ]
  },
  {
   "cell_type": "code",
   "execution_count": 25,
   "metadata": {},
   "outputs": [
    {
     "name": "stdout",
     "output_type": "stream",
     "text": [
      "[0.01100843 0.01267534]\n"
     ]
    }
   ],
   "source": [
    "query = \"document\"\n",
    "\n",
    "# TO DO: RM3 model\n",
    "\n",
    "print(doc_scores)"
   ]
  },
  {
   "cell_type": "markdown",
   "metadata": {},
   "source": [
    "### Evaluation\n",
    "Using the implemented RM3 model, run the experiments of section 4.\n"
   ]
  },
  {
   "cell_type": "markdown",
   "metadata": {},
   "source": [
    "## 4. Experiments and Results (20%)\n",
    "The goal of this section is to compare experimentally the different retrieval models. In this section you must:\n",
    "- Load the Cranfield documents.\n",
    "- Run the implemented retrieval models\n",
    "- Plot the precision-recall curves.\n",
    "- Compute MAP."
   ]
  },
  {
   "cell_type": "code",
   "execution_count": 84,
   "metadata": {},
   "outputs": [],
   "source": [
    "import numpy as np\n",
    "from sklearn.feature_extraction.text import CountVectorizer\n",
    "from matplotlib.pyplot import figure\n",
    "import matplotlib.pyplot as plt\n",
    "import simpleparser as parser\n",
    "from sklearn.feature_extraction.text import CountVectorizer\n",
    "from sklearn.metrics import precision_recall_curve\n",
    "from sklearn.metrics import average_precision_score\n",
    "\n",
    "import collectionloaders\n",
    "import RetrievalModelsMatrix as model"
   ]
  },
  {
   "cell_type": "code",
   "execution_count": 26,
   "metadata": {},
   "outputs": [
    {
     "name": "stdout",
     "output_type": "stream",
     "text": [
      "Number of documents:  1400\n",
      "Number of queries:  225\n"
     ]
    },
    {
     "name": "stderr",
     "output_type": "stream",
     "text": [
      "[nltk_data] Downloading package punkt to /home/joao/nltk_data...\n",
      "[nltk_data]   Package punkt is already up-to-date!\n",
      "[nltk_data] Downloading package stopwords to /home/joao/nltk_data...\n",
      "[nltk_data]   Package stopwords is already up-to-date!\n"
     ]
    }
   ],
   "source": [
    "\n",
    "verbose = False\n",
    "bigrams = True\n",
    "\n",
    "### 1. Load the corpus\n",
    "cranfield = collectionloaders.CranfieldTestBed()\n",
    "\n",
    "### 2. Parse the corpus\n",
    "# Tokenize, stem and remove stop words\n",
    "def vsm_test(bigrams):\n",
    "    \n",
    "    \n",
    "    if not bigrams:\n",
    "        vectorizer = CountVectorizer()\n",
    "    else:\n",
    "        vectorizer = CountVectorizer(ngram_range=(1, 2), token_pattern=r'\\b\\w+\\b', \n",
    "                                        min_df=1, stop_words = {'the', 'is'})\n",
    "    \n",
    "    corpus = parser.stemCorpus(cranfield.corpus_cranfield['abstract'])\n",
    "    \n",
    "    ### 3. Create the model\n",
    "    # Compute the term frequencies matrix and the model statistics\n",
    "    tf_cranfield = vectorizer.fit_transform(corpus).toarray()\n",
    "    models = model.RetrievalModelsMatrix(tf_cranfield, vectorizer)\n",
    "    \n",
    "    ### 4. Run the queries over the corpus\n",
    "    i = 1\n",
    "    map_vsm = 0\n",
    "    precision_vsm = []\n",
    "\n",
    "    for query in cranfield.queries:\n",
    "        # Parse the query and compute the document scores\n",
    "        scores = models.score_vsm(parser.stemSentence(query))\n",
    "    \n",
    "        # Do the evaluation\n",
    "        [average_precision, precision, recall, thresholds] = cranfield.eval(scores, i)\n",
    "        map_vsm = map_vsm + average_precision\n",
    "        precision_vsm.append(precision)\n",
    "        \n",
    "        # Some messages...\n",
    "        if verbose:\n",
    "            plt.plot(recall, precision, color='silver', alpha=0.1)\n",
    "            print('qid =',i, 'VSM     AP=',average_precision)\n",
    "        \n",
    "        i = i + 1\n",
    "\n",
    "    del models #deletes class instance\n",
    "    map_vsm = map_vsm/cranfield.num_queries\n",
    "    return map_vsm,recall,precision_vsm"
   ]
  },
  {
   "cell_type": "code",
   "execution_count": 27,
   "metadata": {},
   "outputs": [
    {
     "data": {
      "text/plain": [
       "0      what similarity laws must be obeyed when const...\n",
       "1      what are the structural and aeroelastic proble...\n",
       "2      what problems of heat conduction in composite ...\n",
       "3      can a criterion be developed to show empirical...\n",
       "4      what chemical kinetic system is applicable to ...\n",
       "                             ...                        \n",
       "220    papers applicable to this problem (calculation...\n",
       "221    has anyone investigated the shear buckling of ...\n",
       "222    papers on shear buckling of unstiffened rectan...\n",
       "223    in practice, how close to reality are the assu...\n",
       "224    what design factors can be used to control lif...\n",
       "Name: query, Length: 225, dtype: object"
      ]
     },
     "execution_count": 27,
     "metadata": {},
     "output_type": "execute_result"
    }
   ],
   "source": [
    "cranfield.queries"
   ]
  },
  {
   "cell_type": "markdown",
   "metadata": {},
   "source": [
    "### Tests the vsm retrieval model \n",
    "    \n",
    "First test without bigrams and second with bigrams\n",
    "\n",
    "Stores the values of the tests in a 3 lists"
   ]
  },
  {
   "cell_type": "code",
   "execution_count": 28,
   "metadata": {},
   "outputs": [],
   "source": [
    "\n",
    "mapl=[]\n",
    "recl=[]\n",
    "precl=[]\n",
    "for b in [False,True]:\n",
    "    new_map,new_recall,new_precision=vsm_test(b)\n",
    "    mapl.append(new_map)\n",
    "    recl.append(new_recall)\n",
    "    precl.append(new_precision)\n",
    "    \n",
    "ind=np.argmax(mapl)  #finds the index of the biggest map value\n",
    "map_vsm=mapl[ind]\n",
    "recall=recl[ind]\n",
    "precision_vsm=precl[ind]\n"
   ]
  },
  {
   "cell_type": "markdown",
   "metadata": {},
   "source": [
    "### Compares the Precision-Recall curves of the tests"
   ]
  },
  {
   "cell_type": "code",
   "execution_count": 29,
   "metadata": {},
   "outputs": [
    {
     "data": {
      "text/plain": [
       "<function matplotlib.pyplot.show(*args, **kw)>"
      ]
     },
     "execution_count": 29,
     "metadata": {},
     "output_type": "execute_result"
    },
    {
     "data": {
      "image/png": "[encoded data removed]",
      "text/plain": [
       "<Figure size 432x288 with 1 Axes>"
      ]
     },
     "metadata": {
      "needs_background": "light"
     },
     "output_type": "display_data"
    }
   ],
   "source": [
    "plt.plot(recl[0], np.mean(precl[0],axis=0), color='b', alpha=1,label=' normal ngrams')\n",
    "plt.plot(recl[1], np.mean(precl[1],axis=0), color='r', alpha=1,label=\" bigrams\")\n",
    "plt.gca().set_aspect('equal', adjustable='box')\n",
    "plt.xlabel('Recall')\n",
    "plt.ylabel('Precision')\n",
    "plt.legend(loc=1)\n",
    "plt.show"
   ]
  },
  {
   "cell_type": "code",
   "execution_count": 31,
   "metadata": {
    "scrolled": true
   },
   "outputs": [
    {
     "name": "stdout",
     "output_type": "stream",
     "text": [
      "MAP= 0.2939123097084909\n"
     ]
    },
    {
     "data": {
      "image/png": "[encoded data removed]",
      "text/plain": [
       "<Figure size 432x288 with 1 Axes>"
      ]
     },
     "metadata": {
      "needs_background": "light"
     },
     "output_type": "display_data"
    }
   ],
   "source": [
    "### Show results\n",
    "print('MAP=',map_vsm)\n",
    "\n",
    "plt.plot(recall, np.mean(precision_vsm,axis=0), color='b', alpha=1)\n",
    "plt.gca().set_aspect('equal', adjustable='box')\n",
    "plt.fill_between(recall, \n",
    "                 np.mean(precision_vsm,axis=0)-np.std(precision_vsm,axis=0), \n",
    "                 np.mean(precision_vsm,axis=0)+np.std(precision_vsm,axis=0), facecolor='b', alpha=0.1)\n",
    "\n",
    "plt.xlabel('Recall')\n",
    "plt.ylabel('Precision')\n",
    "plt.ylim([0.0, 1.0])\n",
    "plt.xlim([0.0, 1.0])\n",
    "plt.title('Precision-Recall (MAP={0:0.2f})'.format(map_vsm))\n",
    "plt.savefig('results/prec-recall.png', dpi=100)\n"
   ]
  },
  {
   "cell_type": "code",
   "execution_count": 189,
   "metadata": {},
   "outputs": [],
   "source": [
    "corpus = parser.stemCorpus(cranfield.corpus_cranfield['abstract'])\n",
    "    \n",
    "    ### 3. Create the model\n",
    "    # Compute the term frequencies matrix and the model statistics\n",
    "tf_cranfield = vectorizer.fit_transform(corpus).toarray()\n",
    "models = model.RetrievalModelsMatrix(tf_cranfield, vectorizer)\n",
    "\n",
    "def test_model(rm,par):\n",
    "    #rm=models.score_lmjm or models.score_ldm\n",
    "    ### 4. Run the queries over the corpus\n",
    "    i = 1\n",
    "    map_vsm = 0\n",
    "    precision_vsm = []\n",
    "\n",
    "    for query in cranfield.queries:\n",
    "        # Parse the query and compute the document scores\n",
    "        scores = np.nan_to_num(rm(parser.stemSentence(query),par))\n",
    "        \n",
    "        # Do the evaluation\n",
    "        [average_precision, precision, recall, thresholds] = cranfield.eval(scores, i)\n",
    "        map_vsm = map_vsm + average_precision\n",
    "        precision_vsm.append(precision)\n",
    "        \n",
    "        i = i + 1\n",
    "\n",
    "    \n",
    "    map_vsm = map_vsm/cranfield.num_queries\n",
    "    return map_vsm,recall,precision_vsm"
   ]
  },
  {
   "cell_type": "code",
   "execution_count": 190,
   "metadata": {},
   "outputs": [],
   "source": [
    "def m_tests(p_start,p_end,n,model):\n",
    "    mapl=[]\n",
    "    recl=[]\n",
    "    precl=[]\n",
    "\n",
    "    pv=np.linspace(p_start,p_end,n)\n",
    "    for p in range(0,n):\n",
    "        new_map,new_recall,new_precision=test_model(model,pv[p])\n",
    "        mapl.append(new_map)\n",
    "        recl.append(new_recall)\n",
    "        precl.append(new_precision)\n",
    "    \n",
    "    ind=np.argmax(mapl)  #finds the index of the biggest map value\n",
    "    best_p=pv[ind]\n",
    "    return best_p,mapl,recl,precl,pv,ind"
   ]
  },
  {
   "cell_type": "code",
   "execution_count": 185,
   "metadata": {},
   "outputs": [
    {
     "ename": "KeyboardInterrupt",
     "evalue": "",
     "output_type": "error",
     "traceback": [
      "\u001b[0;31m---------------------------------------------------------------------------\u001b[0m",
      "\u001b[0;31mKeyboardInterrupt\u001b[0m                         Traceback (most recent call last)",
      "\u001b[0;32m<ipython-input-185-3e5a1bafd9a8>\u001b[0m in \u001b[0;36m<module>\u001b[0;34m\u001b[0m\n\u001b[1;32m      1\u001b[0m \u001b[0;31m#Tests a particular model and returns the parameters\u001b[0m\u001b[0;34m\u001b[0m\u001b[0;34m\u001b[0m\u001b[0;34m\u001b[0m\u001b[0m\n\u001b[0;32m----> 2\u001b[0;31m \u001b[0mbest_p\u001b[0m\u001b[0;34m,\u001b[0m\u001b[0mmapl\u001b[0m\u001b[0;34m,\u001b[0m\u001b[0mrecl\u001b[0m\u001b[0;34m,\u001b[0m\u001b[0mprecl\u001b[0m\u001b[0;34m,\u001b[0m\u001b[0mpv\u001b[0m\u001b[0;34m,\u001b[0m\u001b[0mind\u001b[0m\u001b[0;34m=\u001b[0m\u001b[0mm_tests\u001b[0m\u001b[0;34m(\u001b[0m\u001b[0;36m0.05\u001b[0m\u001b[0;34m,\u001b[0m\u001b[0;36m0.95\u001b[0m\u001b[0;34m,\u001b[0m\u001b[0;36m10\u001b[0m\u001b[0;34m,\u001b[0m\u001b[0mmodels\u001b[0m\u001b[0;34m.\u001b[0m\u001b[0mscore_lmjm\u001b[0m\u001b[0;34m)\u001b[0m\u001b[0;34m\u001b[0m\u001b[0;34m\u001b[0m\u001b[0m\n\u001b[0m",
      "\u001b[0;32m<ipython-input-160-996f4b9e4753>\u001b[0m in \u001b[0;36mm_tests\u001b[0;34m(p_start, p_end, n, model)\u001b[0m\n\u001b[1;32m      6\u001b[0m     \u001b[0mpv\u001b[0m\u001b[0;34m=\u001b[0m\u001b[0mnp\u001b[0m\u001b[0;34m.\u001b[0m\u001b[0mlinspace\u001b[0m\u001b[0;34m(\u001b[0m\u001b[0mp_start\u001b[0m\u001b[0;34m,\u001b[0m\u001b[0mp_end\u001b[0m\u001b[0;34m,\u001b[0m\u001b[0mn\u001b[0m\u001b[0;34m)\u001b[0m\u001b[0;34m\u001b[0m\u001b[0;34m\u001b[0m\u001b[0m\n\u001b[1;32m      7\u001b[0m     \u001b[0;32mfor\u001b[0m \u001b[0mp\u001b[0m \u001b[0;32min\u001b[0m \u001b[0mrange\u001b[0m\u001b[0;34m(\u001b[0m\u001b[0;36m0\u001b[0m\u001b[0;34m,\u001b[0m\u001b[0mn\u001b[0m\u001b[0;34m)\u001b[0m\u001b[0;34m:\u001b[0m\u001b[0;34m\u001b[0m\u001b[0;34m\u001b[0m\u001b[0m\n\u001b[0;32m----> 8\u001b[0;31m         \u001b[0mnew_map\u001b[0m\u001b[0;34m,\u001b[0m\u001b[0mnew_recall\u001b[0m\u001b[0;34m,\u001b[0m\u001b[0mnew_precision\u001b[0m\u001b[0;34m=\u001b[0m\u001b[0mtest_model\u001b[0m\u001b[0;34m(\u001b[0m\u001b[0mmodel\u001b[0m\u001b[0;34m,\u001b[0m\u001b[0mpv\u001b[0m\u001b[0;34m[\u001b[0m\u001b[0mp\u001b[0m\u001b[0;34m]\u001b[0m\u001b[0;34m)\u001b[0m\u001b[0;34m\u001b[0m\u001b[0;34m\u001b[0m\u001b[0m\n\u001b[0m\u001b[1;32m      9\u001b[0m         \u001b[0mmapl\u001b[0m\u001b[0;34m.\u001b[0m\u001b[0mappend\u001b[0m\u001b[0;34m(\u001b[0m\u001b[0mnew_map\u001b[0m\u001b[0;34m)\u001b[0m\u001b[0;34m\u001b[0m\u001b[0;34m\u001b[0m\u001b[0m\n\u001b[1;32m     10\u001b[0m         \u001b[0mrecl\u001b[0m\u001b[0;34m.\u001b[0m\u001b[0mappend\u001b[0m\u001b[0;34m(\u001b[0m\u001b[0mnew_recall\u001b[0m\u001b[0;34m)\u001b[0m\u001b[0;34m\u001b[0m\u001b[0;34m\u001b[0m\u001b[0m\n",
      "\u001b[0;32m<ipython-input-161-372af789be0f>\u001b[0m in \u001b[0;36mtest_model\u001b[0;34m(rm, par)\u001b[0m\n\u001b[1;32m     15\u001b[0m     \u001b[0;32mfor\u001b[0m \u001b[0mquery\u001b[0m \u001b[0;32min\u001b[0m \u001b[0mcranfield\u001b[0m\u001b[0;34m.\u001b[0m\u001b[0mqueries\u001b[0m\u001b[0;34m:\u001b[0m\u001b[0;34m\u001b[0m\u001b[0;34m\u001b[0m\u001b[0m\n\u001b[1;32m     16\u001b[0m         \u001b[0;31m# Parse the query and compute the document scores\u001b[0m\u001b[0;34m\u001b[0m\u001b[0;34m\u001b[0m\u001b[0;34m\u001b[0m\u001b[0m\n\u001b[0;32m---> 17\u001b[0;31m         \u001b[0mscores\u001b[0m \u001b[0;34m=\u001b[0m \u001b[0mnp\u001b[0m\u001b[0;34m.\u001b[0m\u001b[0mnan_to_num\u001b[0m\u001b[0;34m(\u001b[0m\u001b[0mrm\u001b[0m\u001b[0;34m(\u001b[0m\u001b[0mparser\u001b[0m\u001b[0;34m.\u001b[0m\u001b[0mstemSentence\u001b[0m\u001b[0;34m(\u001b[0m\u001b[0mquery\u001b[0m\u001b[0;34m)\u001b[0m\u001b[0;34m,\u001b[0m\u001b[0mpar\u001b[0m\u001b[0;34m)\u001b[0m\u001b[0;34m)\u001b[0m\u001b[0;34m\u001b[0m\u001b[0;34m\u001b[0m\u001b[0m\n\u001b[0m\u001b[1;32m     18\u001b[0m \u001b[0;34m\u001b[0m\u001b[0m\n\u001b[1;32m     19\u001b[0m         \u001b[0;31m# Do the evaluation\u001b[0m\u001b[0;34m\u001b[0m\u001b[0;34m\u001b[0m\u001b[0;34m\u001b[0m\u001b[0m\n",
      "\u001b[0;32m~/Desktop/Big Data/Recuperação de Informação/RI/Project/RetrievalModelsMatrix.py\u001b[0m in \u001b[0;36mscore_lmjm\u001b[0;34m(self, query, lam)\u001b[0m\n\u001b[1;32m     80\u001b[0m \u001b[0;34m\u001b[0m\u001b[0m\n\u001b[1;32m     81\u001b[0m         \u001b[0;31m#elevar ao vetor da query (query_vector)\u001b[0m\u001b[0;34m\u001b[0m\u001b[0;34m\u001b[0m\u001b[0;34m\u001b[0m\u001b[0m\n\u001b[0;32m---> 82\u001b[0;31m         \u001b[0mEd\u001b[0m \u001b[0;34m=\u001b[0m \u001b[0mnp\u001b[0m\u001b[0;34m.\u001b[0m\u001b[0mpower\u001b[0m\u001b[0;34m(\u001b[0m\u001b[0mPd\u001b[0m\u001b[0;34m,\u001b[0m \u001b[0mquery_vector\u001b[0m\u001b[0;34m)\u001b[0m\u001b[0;34m\u001b[0m\u001b[0;34m\u001b[0m\u001b[0m\n\u001b[0m\u001b[1;32m     83\u001b[0m         \u001b[0mEc\u001b[0m \u001b[0;34m=\u001b[0m \u001b[0mnp\u001b[0m\u001b[0;34m.\u001b[0m\u001b[0mpower\u001b[0m\u001b[0;34m(\u001b[0m\u001b[0mPc\u001b[0m\u001b[0;34m,\u001b[0m \u001b[0mquery_vector\u001b[0m\u001b[0;34m)\u001b[0m\u001b[0;34m\u001b[0m\u001b[0;34m\u001b[0m\u001b[0m\n\u001b[1;32m     84\u001b[0m \u001b[0;34m\u001b[0m\u001b[0m\n",
      "\u001b[0;31mKeyboardInterrupt\u001b[0m: "
     ]
    }
   ],
   "source": [
    "#Tests a particular model and returns the parameters\n",
    "best_p,mapl,recl,precl,pv,ind=m_tests(0.05,0.95,10,models.score_lmjm)\n"
   ]
  },
  {
   "cell_type": "code",
   "execution_count": 167,
   "metadata": {},
   "outputs": [],
   "source": [
    "from itertools import cycle\n",
    "cycol = cycle('bgrcmk')\n",
    "def plot_test(model_str,recall,precision,pv):\n",
    "    \n",
    "    plt.xlabel('Recall')\n",
    "    plt.ylabel('Precision')\n",
    "    plt.title(model_str)\n",
    "   \n",
    "    \n",
    "    \n",
    "    for i in range(0,np.shape(pv)[0]):\n",
    "        \n",
    "        plt.plot(recall[i], np.mean(precision[i],axis=0), color=next(cycol),label=\"par={0:0.2f}\".format(pv[i]))\n",
    "    \n",
    "    \n",
    "    plt.legend(loc=1)\n",
    "    fig_size=[0,0]\n",
    "    fig_size[0] = 12\n",
    "    fig_size[1] = 9\n",
    "    plt.rcParams[\"figure.figsize\"] = fig_size\n",
    "    plt.show()"
   ]
  },
  {
   "cell_type": "code",
   "execution_count": 169,
   "metadata": {},
   "outputs": [
    {
     "data": {
      "image/png": "[encoded data removed]",
      "text/plain": [
       "<Figure size 864x432 with 1 Axes>"
      ]
     },
     "metadata": {
      "needs_background": "light"
     },
     "output_type": "display_data"
    }
   ],
   "source": [
    "plot_test(\"LMJM-test (best par={0})\".format(best_p),recl,precl,pv)"
   ]
  },
  {
   "cell_type": "code",
   "execution_count": 170,
   "metadata": {},
   "outputs": [],
   "source": [
    "def best_test(file,mapl,precl,recl,ind):\n",
    "    map_=mapl[ind]\n",
    "    precision=precl[ind]\n",
    "    recall=recl[ind]\n",
    "    print('MAP=',map_)\n",
    "\n",
    "    plt.plot(recall, np.mean(precision,axis=0), color='b', alpha=1)\n",
    "    plt.gca().set_aspect('equal', adjustable='box')\n",
    "    plt.fill_between(recall, \n",
    "                 np.mean(precision,axis=0)-np.std(precision,axis=0), \n",
    "                 np.mean(precision,axis=0)+np.std(precision,axis=0), facecolor='b', alpha=0.1)\n",
    "\n",
    "    plt.xlabel('Recall')\n",
    "    plt.ylabel('Precision')\n",
    "    plt.ylim([0.0, 1.0])\n",
    "    plt.xlim([0.0, 1.0])\n",
    "    plt.title('Precision-Recall (MAP={0:0.3f})'.format(map_))\n",
    "    fig_size=[0,0]\n",
    "    fig_size[0] = 12\n",
    "    fig_size[1] = 6\n",
    "    plt.rcParams[\"figure.figsize\"] = fig_size\n",
    "    plt.show()\n",
    "    plt.savefig('results/prec-recall_{0}.png'.format(file), dpi=100)\n",
    "    "
   ]
  },
  {
   "cell_type": "code",
   "execution_count": 171,
   "metadata": {},
   "outputs": [
    {
     "name": "stdout",
     "output_type": "stream",
     "text": [
      "MAP= 0.29279168410031065\n"
     ]
    },
    {
     "data": {
      "image/png": "[encoded data removed]",
      "text/plain": [
       "<Figure size 864x648 with 1 Axes>"
      ]
     },
     "metadata": {
      "needs_background": "light"
     },
     "output_type": "display_data"
    },
    {
     "data": {
      "text/plain": [
       "<Figure size 864x432 with 0 Axes>"
      ]
     },
     "metadata": {},
     "output_type": "display_data"
    }
   ],
   "source": [
    "best_test(\"LMJM-test\",mapl,precl,recl,ind)"
   ]
  },
  {
   "cell_type": "code",
   "execution_count": 183,
   "metadata": {},
   "outputs": [],
   "source": [
    "def best_test_p_lmd(tf_cranfield):\n",
    "    #Finds the mean of the lenght of all the documents to determine miu\n",
    "    \n",
    "    #sum of the rows\n",
    "    vm=np.sum(tf_cranfield,axis=1)\n",
    "    \n",
    "    #mean value of the number of words in each doc \n",
    "    cm=np.mean(vm)\n",
    "    return cm\n"
   ]
  },
  {
   "cell_type": "code",
   "execution_count": 184,
   "metadata": {},
   "outputs": [
    {
     "data": {
      "text/plain": [
       "93.18928571428572"
      ]
     },
     "execution_count": 184,
     "metadata": {},
     "output_type": "execute_result"
    }
   ],
   "source": [
    "best_test_p_lmd(tf_cranfield)"
   ]
  },
  {
   "cell_type": "code",
   "execution_count": null,
   "metadata": {},
   "outputs": [],
   "source": [
    "best_p,mapl,recl,precl,pv,ind=m_tests(80,150,10,models.score_lmd)"
   ]
  },
  {
   "cell_type": "code",
   "execution_count": null,
   "metadata": {},
   "outputs": [],
   "source": [
    "best_p"
   ]
  },
  {
   "cell_type": "code",
   "execution_count": null,
   "metadata": {},
   "outputs": [],
   "source": [
    "plot_test(\"LMD-test (best par={0})\".format(best_p),recl,precl,pv)"
   ]
  },
  {
   "cell_type": "code",
   "execution_count": 202,
   "metadata": {},
   "outputs": [
    {
     "name": "stdout",
     "output_type": "stream",
     "text": [
      "MAP= 0.28661036269257567\n"
     ]
    },
    {
     "data": {
      "image/png": "[encoded data removed]",
      "text/plain": [
       "<Figure size 864x648 with 1 Axes>"
      ]
     },
     "metadata": {
      "needs_background": "light"
     },
     "output_type": "display_data"
    },
    {
     "data": {
      "text/plain": [
       "<Figure size 864x432 with 0 Axes>"
      ]
     },
     "metadata": {},
     "output_type": "display_data"
    }
   ],
   "source": [
    "best_test(\"LMJM-test\",mapl,precl,recl,ind)"
   ]
  },
  {
   "cell_type": "markdown",
   "metadata": {},
   "source": [
    "### Results and discussion\n",
    "\n",
    "\n",
    "The following table summarizes the MAP and P10 results:\n",
    "\n",
    "| Retrieval Model | P10 | MAP   |\n",
    "|-----------------|-----|-------|\n",
    "| VSM             | ?   | {{map_vsm}} |\n",
    "| LMD             | ?   | ? |\n",
    "| LMJM             | ?   | ? |\n",
    "| BM25             | ?   | ? |\n",
    "\n",
    "![](results/prec-recall.png)"
   ]
  }
 ],
 "metadata": {
  "kernelspec": {
   "display_name": "Python 3",
   "language": "python",
   "name": "python3"
  },
  "language_info": {
   "codemirror_mode": {
    "name": "ipython",
    "version": 3
   },
   "file_extension": ".py",
   "mimetype": "text/x-python",
   "name": "python",
   "nbconvert_exporter": "python",
   "pygments_lexer": "ipython3",
   "version": "3.7.4"
  }
 },
 "nbformat": 4,
 "nbformat_minor": 4
}
